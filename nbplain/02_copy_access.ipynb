{
  "cells": [
    {
      "metadata": {
        "slideshow": {
          "slide_type": "slide"
        }
      },
      "cell_type": "markdown",
      "source": "# Copy and Access Numpy Arrays"
    },
    {
      "metadata": {
        "slideshow": {
          "slide_type": "subslide"
        }
      },
      "cell_type": "markdown",
      "source": "##### Overview:\n- **Teaching:** 5 min\n- **Exercises:** 15 min\n\n**Questions**\n- How do I copy numpy arrays?\n- How do I access elements or subsets of arrays?\n\n**Objectives**\n- Understand the difference between assigining and copying `numpy` arrays.\n- Know how to access elements, slices and subsets of `numpy` arrays."
    },
    {
      "metadata": {
        "slideshow": {
          "slide_type": "slide"
        }
      },
      "cell_type": "markdown",
      "source": "## To Copy or not to Copy (Numpy Arrays)\n\nFirst as always we must import `numpy`:"
    },
    {
      "metadata": {
        "slideshow": {
          "slide_type": "subslide"
        },
        "trusted": true
      },
      "cell_type": "code",
      "source": "import numpy as np",
      "execution_count": 1,
      "outputs": []
    },
    {
      "metadata": {
        "slideshow": {
          "slide_type": "subslide"
        },
        "trusted": true
      },
      "cell_type": "code",
      "source": "a = np.array( [-1, 0, 1] )\nprint(a)",
      "execution_count": 2,
      "outputs": [
        {
          "output_type": "stream",
          "text": "[-1  0  1]\n",
          "name": "stdout"
        }
      ]
    },
    {
      "metadata": {
        "slideshow": {
          "slide_type": "slide"
        }
      },
      "cell_type": "markdown",
      "source": "Mow let's assign the array we've created to another variable:"
    },
    {
      "metadata": {
        "slideshow": {
          "slide_type": "subslide"
        },
        "trusted": true
      },
      "cell_type": "code",
      "source": "b = a\nprint(\"a\", a)\nprint(\"b\", b)",
      "execution_count": 3,
      "outputs": [
        {
          "output_type": "stream",
          "text": "a [-1  0  1]\nb [-1  0  1]\n",
          "name": "stdout"
        }
      ]
    },
    {
      "metadata": {
        "slideshow": {
          "slide_type": "slide"
        }
      },
      "cell_type": "markdown",
      "source": "If we now modify `a` what will happen to `b`"
    },
    {
      "metadata": {
        "slideshow": {
          "slide_type": "subslide"
        },
        "trusted": true
      },
      "cell_type": "code",
      "source": "a[0]=2\nprint(a)\nprint(b)",
      "execution_count": 4,
      "outputs": [
        {
          "output_type": "stream",
          "text": "[2 0 1]\n[2 0 1]\n",
          "name": "stdout"
        }
      ]
    },
    {
      "metadata": {
        "slideshow": {
          "slide_type": "subslide"
        }
      },
      "cell_type": "markdown",
      "source": "When we assign `b` to `a` both variables point to the same object, (the same happens with lists!)."
    },
    {
      "metadata": {
        "slideshow": {
          "slide_type": "slide"
        }
      },
      "cell_type": "markdown",
      "source": "## Copy()\n\nIf we want to copy a numpy array we must explicitly call `<ndarray>.copy()`:"
    },
    {
      "metadata": {
        "slideshow": {
          "slide_type": "subslide"
        },
        "trusted": true
      },
      "cell_type": "code",
      "source": "c = np.ones( (3,3) )\nd = c\ne = c.copy()\nprint(\"c\", c)\nprint(\"d\", d)\nprint(\"e\", e)",
      "execution_count": 5,
      "outputs": [
        {
          "output_type": "stream",
          "text": "c [[1. 1. 1.]\n [1. 1. 1.]\n [1. 1. 1.]]\nd [[1. 1. 1.]\n [1. 1. 1.]\n [1. 1. 1.]]\ne [[1. 1. 1.]\n [1. 1. 1.]\n [1. 1. 1.]]\n",
          "name": "stdout"
        }
      ]
    },
    {
      "metadata": {
        "slideshow": {
          "slide_type": "slide"
        }
      },
      "cell_type": "markdown",
      "source": "Now let's modify `c`:"
    },
    {
      "metadata": {
        "slideshow": {
          "slide_type": "subslide"
        },
        "trusted": true
      },
      "cell_type": "code",
      "source": "c[0][0]=10\nprint(\"c\", c)\nprint(\"d\", d)\nprint(\"e\", e)",
      "execution_count": 6,
      "outputs": [
        {
          "output_type": "stream",
          "text": "c [[10.  1.  1.]\n [ 1.  1.  1.]\n [ 1.  1.  1.]]\nd [[10.  1.  1.]\n [ 1.  1.  1.]\n [ 1.  1.  1.]]\ne [[1. 1. 1.]\n [1. 1. 1.]\n [1. 1. 1.]]\n",
          "name": "stdout"
        }
      ]
    },
    {
      "metadata": {
        "slideshow": {
          "slide_type": "slide"
        }
      },
      "cell_type": "markdown",
      "source": "## Exercise: Re-initialise\n\nWhat happens if we re-initialise `c` e.g.\n```python\nc= np.zeroes( (3,3) )\n```\n\n[Solution]()"
    },
    {
      "metadata": {
        "slideshow": {
          "slide_type": "slide"
        }
      },
      "cell_type": "markdown",
      "source": "## Solution+: Re-initialise"
    },
    {
      "metadata": {
        "trusted": true,
        "slideshow": {
          "slide_type": "subslide"
        }
      },
      "cell_type": "code",
      "source": "c = np.zeros( (3,3) )\nprint(\"c\", c)\nprint(\"d\", d)\nprint(\"e\", e)",
      "execution_count": 7,
      "outputs": [
        {
          "output_type": "stream",
          "text": "c [[0. 0. 0.]\n [0. 0. 0.]\n [0. 0. 0.]]\nd [[10.  1.  1.]\n [ 1.  1.  1.]\n [ 1.  1.  1.]]\ne [[1. 1. 1.]\n [1. 1. 1.]\n [1. 1. 1.]]\n",
          "name": "stdout"
        }
      ]
    },
    {
      "metadata": {
        "slideshow": {
          "slide_type": "subslide"
        }
      },
      "cell_type": "markdown",
      "source": "If we reintialise `c`, `d` does not get changed and is still the original array.  You can also use the function `id` to check whether two variables point to the same object:"
    },
    {
      "metadata": {
        "slideshow": {
          "slide_type": "subslide"
        },
        "trusted": true
      },
      "cell_type": "code",
      "source": "print(id(c))\nprint(id(d))\nprint(id(e))",
      "execution_count": 8,
      "outputs": [
        {
          "output_type": "stream",
          "text": "139972242570496\n139972242569536\n139972242569936\n",
          "name": "stdout"
        }
      ]
    },
    {
      "metadata": {
        "slideshow": {
          "slide_type": "subslide"
        }
      },
      "cell_type": "markdown",
      "source": ":Solution+"
    },
    {
      "metadata": {
        "slideshow": {
          "slide_type": "slide"
        }
      },
      "cell_type": "markdown",
      "source": "## Accessing arrays\n\nBasic indexing and slicing can be used to access array elements, as we know from lists:"
    },
    {
      "metadata": {
        "slideshow": {
          "slide_type": "subslide"
        },
        "trusted": true
      },
      "cell_type": "code",
      "source": "# a[start:stop:stride] (not inclusive of stop)\nx = np.arange(8)\nprint(\"x\", x)\nprint(\"x[0:7:2]\", x[0:7:2])\nprint(\"x[0::2]\", x[0::2])",
      "execution_count": 9,
      "outputs": [
        {
          "output_type": "stream",
          "text": "x [0 1 2 3 4 5 6 7]\nx[0:7:2] [0 2 4 6]\nx[0::2] [0 2 4 6]\n",
          "name": "stdout"
        }
      ]
    },
    {
      "metadata": {
        "slideshow": {
          "slide_type": "slide"
        }
      },
      "cell_type": "markdown",
      "source": "And as with lists negative indices are valid!  Useful if you want to access from the end of the array"
    },
    {
      "metadata": {
        "slideshow": {
          "slide_type": "subslide"
        },
        "trusted": true
      },
      "cell_type": "code",
      "source": "print(x[-1], x[-2], x[-3])",
      "execution_count": 10,
      "outputs": [
        {
          "output_type": "stream",
          "text": "7 6 5\n",
          "name": "stdout"
        }
      ]
    },
    {
      "metadata": {
        "slideshow": {
          "slide_type": "slide"
        }
      },
      "cell_type": "markdown",
      "source": "## Exercise: Access\n\nWhat will the following do:\n\n```python\nprint(x[2:-3:2])\nprint(x[::-2])\n```\n\n[Solution]()"
    },
    {
      "metadata": {
        "slideshow": {
          "slide_type": "slide"
        }
      },
      "cell_type": "markdown",
      "source": "## Solution+:"
    },
    {
      "metadata": {
        "slideshow": {
          "slide_type": "subslide"
        },
        "trusted": true
      },
      "cell_type": "code",
      "source": "print(x[2:-3:2])\nprint(x[::-2])",
      "execution_count": 11,
      "outputs": [
        {
          "output_type": "stream",
          "text": "[2 4]\n[7 5 3 1]\n",
          "name": "stdout"
        }
      ]
    },
    {
      "metadata": {
        "slideshow": {
          "slide_type": "subslide"
        }
      },
      "cell_type": "markdown",
      "source": "Negative indices in the *stop*, *start* positions work as they do in referencing individual elements of the array.  \n\nA negative *stride* work backwards through the array, starting by default from the last element. \n\n:Solution+"
    },
    {
      "metadata": {
        "slideshow": {
          "slide_type": "slide"
        }
      },
      "cell_type": "markdown",
      "source": "## Accessing Multidimensional data\n\nTo access multidimensional arrays we can use multiple index subscripts, or we can use a `tuple`."
    },
    {
      "metadata": {
        "slideshow": {
          "slide_type": "subslide"
        },
        "trusted": true
      },
      "cell_type": "code",
      "source": "# Basic indexing of a 3d array\nm = np.array([[[1,2],[3,4]],[[5,6],[7,8]]])\nprint(c.shape)\n# using subscripts\nprint(\"m[1][0][1]:\", m[1][0][1])\n# using a tuple\nprint(\"m[(1,0,1)]:\", m[(1,0,1)])\n# the whole thing\nprint(m)",
      "execution_count": 12,
      "outputs": [
        {
          "output_type": "stream",
          "text": "(3, 3)\nm[1][0][1]: 6\nm[(1,0,1)]: 6\n[[[1 2]\n  [3 4]]\n\n [[5 6]\n  [7 8]]]\n",
          "name": "stdout"
        }
      ]
    },
    {
      "metadata": {
        "slideshow": {
          "slide_type": "slide"
        }
      },
      "cell_type": "markdown",
      "source": "We can access complete *slices* by leaving out indices or using elipses:"
    },
    {
      "metadata": {
        "slideshow": {
          "slide_type": "subslide"
        },
        "trusted": true
      },
      "cell_type": "code",
      "source": "print(m[1])\nprint(m[1,0,...])     # can also use elipsis (3 dots)\n                      # for missing indices   \nprint(m[...,1,1])     # anywhere in indices\nprint(m[...,...,1])   # but only once",
      "execution_count": 13,
      "outputs": [
        {
          "output_type": "stream",
          "text": "[[5 6]\n [7 8]]\n[5 6]\n[4 8]\n",
          "name": "stdout"
        },
        {
          "output_type": "error",
          "ename": "IndexError",
          "evalue": "an index can only have a single ellipsis ('...')",
          "traceback": [
            "\u001b[0;31m---------------------------------------------------------------------------\u001b[0m",
            "\u001b[0;31mIndexError\u001b[0m                                Traceback (most recent call last)",
            "\u001b[0;32m<ipython-input-13-43f04eec0494>\u001b[0m in \u001b[0;36m<module>\u001b[0;34m()\u001b[0m\n\u001b[1;32m      3\u001b[0m                       \u001b[0;31m# for missing indices\u001b[0m\u001b[0;34m\u001b[0m\u001b[0;34m\u001b[0m\u001b[0m\n\u001b[1;32m      4\u001b[0m \u001b[0mprint\u001b[0m\u001b[0;34m(\u001b[0m\u001b[0mm\u001b[0m\u001b[0;34m[\u001b[0m\u001b[0;34m...\u001b[0m\u001b[0;34m,\u001b[0m\u001b[0;36m1\u001b[0m\u001b[0;34m,\u001b[0m\u001b[0;36m1\u001b[0m\u001b[0;34m]\u001b[0m\u001b[0;34m)\u001b[0m     \u001b[0;31m# anywhere in indices\u001b[0m\u001b[0;34m\u001b[0m\u001b[0m\n\u001b[0;32m----> 5\u001b[0;31m \u001b[0mprint\u001b[0m\u001b[0;34m(\u001b[0m\u001b[0mm\u001b[0m\u001b[0;34m[\u001b[0m\u001b[0;34m...\u001b[0m\u001b[0;34m,\u001b[0m\u001b[0;34m...\u001b[0m\u001b[0;34m,\u001b[0m\u001b[0;36m1\u001b[0m\u001b[0;34m]\u001b[0m\u001b[0;34m)\u001b[0m   \u001b[0;31m# but only once\u001b[0m\u001b[0;34m\u001b[0m\u001b[0m\n\u001b[0m",
            "\u001b[0;31mIndexError\u001b[0m: an index can only have a single ellipsis ('...')"
          ]
        }
      ]
    },
    {
      "metadata": {
        "slideshow": {
          "slide_type": "slide"
        }
      },
      "cell_type": "markdown",
      "source": "## Exercise: Slice and Copy\n\nCreate a new array and assign a slice of the array to another variable.\n\nWhat happens when you change an element of the original array that is in the slice you have created, or vice-versa?\n\nHow can you create a unique slice of the original array?\n\n[Solution]()"
    },
    {
      "metadata": {
        "slideshow": {
          "slide_type": "slide"
        }
      },
      "cell_type": "markdown",
      "source": "## Solution+:\n"
    },
    {
      "metadata": {
        "slideshow": {
          "slide_type": "subslide"
        },
        "trusted": true
      },
      "cell_type": "code",
      "source": "n = np.ones( (3,3) )\no = n[0]\nprint(\"n\", n)\nprint(\"o\", o)",
      "execution_count": 15,
      "outputs": [
        {
          "output_type": "stream",
          "text": "n [[1. 1. 1.]\n [1. 1. 1.]\n [1. 1. 1.]]\no [1. 1. 1.]\n",
          "name": "stdout"
        }
      ]
    },
    {
      "metadata": {
        "trusted": true
      },
      "cell_type": "code",
      "source": "n[(0,0)] = 2\nprint(\"n\", n)\nprint(\"o\", o)",
      "execution_count": 16,
      "outputs": [
        {
          "output_type": "stream",
          "text": "n [[-1. -1. -1.]\n [ 1.  2.  1.]\n [ 1.  1.  1.]]\no [-1. -1. -1.]\n",
          "name": "stdout"
        }
      ]
    },
    {
      "metadata": {
        "trusted": true
      },
      "cell_type": "code",
      "source": "o[:] = -1\nprint(\"n\", n)\nprint(\"o\", o)",
      "execution_count": 17,
      "outputs": [
        {
          "output_type": "stream",
          "text": "n [[-1. -1. -1.]\n [ 1.  2.  1.]\n [ 1.  1.  1.]]\no [-1. -1. -1.]\n",
          "name": "stdout"
        }
      ]
    },
    {
      "metadata": {
        "slideshow": {
          "slide_type": "subslide"
        }
      },
      "cell_type": "markdown",
      "source": "If you want to copy slices, as with whole arrays you need to use `<ndarray>.copy()`.\n\n:Solution+"
    },
    {
      "metadata": {
        "slideshow": {
          "slide_type": "slide"
        }
      },
      "cell_type": "markdown",
      "source": "## Key Points:\n- If you assign one array to another the two arrays are **views** of the same object.\n- If you want to `copy` an array, element or slice you need to explicitly copy the array.\n- Indexing and slicing works as with lists, you can use indexing or tuples to access elements\n- For slicing you can use a `[start:stop:stride]` notation to select from an array"
    }
  ],
  "metadata": {
    "celltoolbar": "Slideshow",
    "kernelspec": {
      "name": "python3",
      "display_name": "Python 3",
      "language": "python"
    },
    "language_info": {
      "mimetype": "text/x-python",
      "nbconvert_exporter": "python",
      "name": "python",
      "pygments_lexer": "ipython3",
      "version": "3.5.4",
      "file_extension": ".py",
      "codemirror_mode": {
        "version": 3,
        "name": "ipython"
      }
    }
  },
  "nbformat": 4,
  "nbformat_minor": 2
}