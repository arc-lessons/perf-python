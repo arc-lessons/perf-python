{
  "cells": [
    {
      "metadata": {
        "slideshow": {
          "slide_type": "slide"
        }
      },
      "cell_type": "markdown",
      "source": "# Manipulating Arrays"
    },
    {
      "metadata": {
        "slideshow": {
          "slide_type": "subslide"
        }
      },
      "cell_type": "markdown",
      "source": "##### Overview:\n- **Teaching:** 5 min\n- **Exercises:** 15 min\n\n**Questions**\n- How do I manipulate the shape or size of an array?\n- What if I want to select by indexing?\n\n**Objectives**\n- Understand that most general manipulations exists as `numpy` functions\n- Know that you can change the shape of an array\n- Understand the difference between `reshape()` and `resize()`\n- Know that you can select using index pairs, given as lists"
    },
    {
      "metadata": {
        "slideshow": {
          "slide_type": "slide"
        }
      },
      "cell_type": "markdown",
      "source": "## Reshaping Arrays\n\nFirst as always we must import `numpy`:"
    },
    {
      "metadata": {
        "slideshow": {
          "slide_type": "subslide"
        },
        "trusted": true
      },
      "cell_type": "code",
      "source": "import numpy as np",
      "execution_count": 13,
      "outputs": []
    },
    {
      "metadata": {
        "slideshow": {
          "slide_type": "slide"
        }
      },
      "cell_type": "markdown",
      "source": "Let's create ourselves an array as before and check its shape."
    },
    {
      "metadata": {
        "slideshow": {
          "slide_type": "subslide"
        },
        "trusted": true
      },
      "cell_type": "code",
      "source": "a = np.arange(6)\nprint(\"a\", a, \", shape:\", a.shape)",
      "execution_count": 14,
      "outputs": [
        {
          "output_type": "stream",
          "text": "a [0 1 2 3 4 5] , shape: (6,)\n",
          "name": "stdout"
        }
      ]
    },
    {
      "metadata": {
        "slideshow": {
          "slide_type": "subslide"
        }
      },
      "cell_type": "markdown",
      "source": "We can change the shape of the array by modifying the shape directly, though this requires that the `size` of the array remains the same."
    },
    {
      "metadata": {
        "slideshow": {
          "slide_type": "slide"
        },
        "trusted": true
      },
      "cell_type": "code",
      "source": "a.shape = (3,2)\nprint(a)",
      "execution_count": 15,
      "outputs": [
        {
          "output_type": "stream",
          "text": "[[0 1]\n [2 3]\n [4 5]]\n",
          "name": "stdout"
        }
      ]
    },
    {
      "metadata": {
        "slideshow": {
          "slide_type": "slide"
        }
      },
      "cell_type": "markdown",
      "source": "## Exercise:\n\nWhat happens if we call the reshape function?\n\n```python\na.reshape(2,3)\n```\n\n[Solution]()"
    },
    {
      "metadata": {
        "slideshow": {
          "slide_type": "slide"
        }
      },
      "cell_type": "markdown",
      "source": "## Solution+:"
    },
    {
      "metadata": {
        "slideshow": {
          "slide_type": "subslide"
        },
        "trusted": true
      },
      "cell_type": "code",
      "source": "print(a.reshape(2,3))\nprint(a)",
      "execution_count": 16,
      "outputs": [
        {
          "output_type": "stream",
          "text": "[[0 1 2]\n [3 4 5]]\n[[0 1]\n [2 3]\n [4 5]]\n",
          "name": "stdout"
        }
      ]
    },
    {
      "metadata": {
        "slideshow": {
          "slide_type": "subslide"
        }
      },
      "cell_type": "markdown",
      "source": "`reshape` returns a reshaped array but does not modify the original array.\n\n:Solution+"
    },
    {
      "metadata": {
        "slideshow": {
          "slide_type": "slide"
        }
      },
      "cell_type": "markdown",
      "source": "## Reshape or Resize?\n\nWhat is the difference between reshape and resize?"
    },
    {
      "metadata": {
        "slideshow": {
          "slide_type": "subslide"
        },
        "trusted": true
      },
      "cell_type": "code",
      "source": "mat = np.arange(6)\nprint(mat)\nmat1 = np.reshape(mat, (3, 2))\nprint(mat1)",
      "execution_count": 17,
      "outputs": [
        {
          "output_type": "stream",
          "text": "[0 1 2 3 4 5]\n[[0 1]\n [2 3]\n [4 5]]\n",
          "name": "stdout"
        }
      ]
    },
    {
      "metadata": {
        "slideshow": {
          "slide_type": "subslide"
        },
        "trusted": true
      },
      "cell_type": "code",
      "source": "mat1.base is mat",
      "execution_count": 18,
      "outputs": [
        {
          "output_type": "execute_result",
          "execution_count": 18,
          "data": {
            "text/plain": "True"
          },
          "metadata": {}
        }
      ]
    },
    {
      "metadata": {
        "slideshow": {
          "slide_type": "subslide"
        }
      },
      "cell_type": "markdown",
      "source": "Reshape creates a view of the object which has the shape specified in the function."
    },
    {
      "metadata": {
        "slideshow": {
          "slide_type": "subslide"
        },
        "trusted": true
      },
      "cell_type": "code",
      "source": "# Or can alter the size and shape of the array with\n# resize(). May copy/pad depending on shape.\nprint(mat)\nmat2 = np.resize(mat, (3, 2))\nprint(mat1)",
      "execution_count": 19,
      "outputs": [
        {
          "output_type": "stream",
          "text": "[0 1 2 3 4 5]\n[[0 1]\n [2 3]\n [4 5]]\n",
          "name": "stdout"
        }
      ]
    },
    {
      "metadata": {
        "slideshow": {
          "slide_type": "subslide"
        },
        "trusted": true
      },
      "cell_type": "code",
      "source": "mat2.base is mat # can also check this using id()",
      "execution_count": 20,
      "outputs": [
        {
          "output_type": "execute_result",
          "execution_count": 20,
          "data": {
            "text/plain": "False"
          },
          "metadata": {}
        }
      ]
    },
    {
      "metadata": {
        "slideshow": {
          "slide_type": "subslide"
        }
      },
      "cell_type": "markdown",
      "source": "Ressize creates a copy of the object which has the shape specified in the function."
    },
    {
      "metadata": {
        "slideshow": {
          "slide_type": "slide"
        }
      },
      "cell_type": "markdown",
      "source": "## Exercise: Manipulation Functions\n\nUsing `help`, tab auto-completion or otherwise, experiment with some of the functions available with `numpy` that sound like they manipulate arrays."
    },
    {
      "metadata": {
        "slideshow": {
          "slide_type": "slide"
        }
      },
      "cell_type": "markdown",
      "source": "## Fancy indexing\n\nFancy indexing allows us to select elements from an existing array using pairs of lists which specify the 'rows' and 'columns' that we want to select.  In this case `numpy` creates a copy."
    },
    {
      "metadata": {
        "slideshow": {
          "slide_type": "subslide"
        },
        "trusted": true
      },
      "cell_type": "code",
      "source": "p = np.array([[0, 1, 2],[3, 4, 5],\n              [6, 7, 8],[9, 10, 11]]) \nprint(p)",
      "execution_count": 21,
      "outputs": [
        {
          "output_type": "stream",
          "text": "[[ 0  1  2]\n [ 3  4  5]\n [ 6  7  8]\n [ 9 10 11]]\n",
          "name": "stdout"
        }
      ]
    },
    {
      "metadata": {
        "slideshow": {
          "slide_type": "slide"
        }
      },
      "cell_type": "markdown",
      "source": "Let's now create two sets of indices and make our new selection"
    },
    {
      "metadata": {
        "slideshow": {
          "slide_type": "subslide"
        },
        "trusted": true
      },
      "cell_type": "code",
      "source": "rows = [0,0,3,3]   # indices for rows\ncols = [0,2,0,2]   # indices for columns\nq=p[rows,cols]\nprint(q)",
      "execution_count": 22,
      "outputs": [
        {
          "output_type": "stream",
          "text": "[ 0  2  9 11]\n",
          "name": "stdout"
        }
      ]
    },
    {
      "metadata": {
        "slideshow": {
          "slide_type": "slide"
        }
      },
      "cell_type": "markdown",
      "source": "Finally we can modify one of the arrays, print them and verify that the new array is not a view on the original array."
    },
    {
      "metadata": {
        "slideshow": {
          "slide_type": "subslide"
        },
        "trusted": true
      },
      "cell_type": "code",
      "source": "# ... check if a is a view or a copy\nq[0]=1000\nprint(q)\nprint(p)",
      "execution_count": 23,
      "outputs": [
        {
          "output_type": "stream",
          "text": "[1000    2    9   11]\n[[ 0  1  2]\n [ 3  4  5]\n [ 6  7  8]\n [ 9 10 11]]\n",
          "name": "stdout"
        }
      ]
    },
    {
      "metadata": {
        "slideshow": {
          "slide_type": "subslide"
        },
        "trusted": true
      },
      "cell_type": "code",
      "source": "q.base is p",
      "execution_count": 24,
      "outputs": [
        {
          "output_type": "execute_result",
          "execution_count": 24,
          "data": {
            "text/plain": "False"
          },
          "metadata": {}
        }
      ]
    },
    {
      "metadata": {
        "slideshow": {
          "slide_type": "slide"
        }
      },
      "cell_type": "markdown",
      "source": "## Key Points:\n- Most general manipulations exists as `numpy` functions\n- Changing the `size` attribute directly, changes the shape of an array\n- `reshape()` creates a new view on an array\n- `resize()` creates a copy of an array\n- When you can select elements using index pairs, given as lists, numpy creates a copy"
    }
  ],
  "metadata": {
    "celltoolbar": "Slideshow",
    "kernelspec": {
      "name": "python3",
      "display_name": "Python 3",
      "language": "python"
    },
    "language_info": {
      "mimetype": "text/x-python",
      "nbconvert_exporter": "python",
      "name": "python",
      "pygments_lexer": "ipython3",
      "version": "3.5.4",
      "file_extension": ".py",
      "codemirror_mode": {
        "version": 3,
        "name": "ipython"
      }
    }
  },
  "nbformat": 4,
  "nbformat_minor": 2
}