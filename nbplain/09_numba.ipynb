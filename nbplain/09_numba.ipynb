{
  "cells": [
    {
      "metadata": {
        "slideshow": {
          "slide_type": "slide"
        }
      },
      "cell_type": "markdown",
      "source": "# Numba"
    },
    {
      "metadata": {
        "slideshow": {
          "slide_type": "subslide"
        }
      },
      "cell_type": "markdown",
      "source": "##### Overview:\n- **Teaching:** 5 min\n- **Exercises:** 15 min\n\n**Questions**\n- What is numba?\n- When and how can I use it to improve my code?\n\n**Objectives**\n- Know that you can use `numba` to improve the performance of your code with just in time compilation\n- Understand that `numba` *likes*, loops and `numpy`"
    },
    {
      "metadata": {
        "slideshow": {
          "slide_type": "slide"
        }
      },
      "cell_type": "markdown",
      "source": "## Numba resources\n\nAs with `Scipy` a large number of resources are available to help you work with numba including a [5 minute introduction](https://numba.pydata.org/numba-doc/dev/user/5minguide.html)."
    },
    {
      "metadata": {
        "slideshow": {
          "slide_type": "subslide"
        }
      },
      "cell_type": "markdown",
      "source": "Explore this in a new notebook and then revisit our $\\pi$ calculators from earlier and see if you can use numba to improve their performance, what effect does it have in these cases.\n\nOur [Now code mandelbrot example](https://arc-lessons.github.io/now-code/06_episode.html) has the opportunity to use `numba` effectively?\n\nAlternatively try using numba with your existing"
    },
    {
      "metadata": {
        "slideshow": {
          "slide_type": "slide"
        }
      },
      "cell_type": "markdown",
      "source": "## Key Points:\n- Numba uses simple decorators to perform just in time compilation, wcich can deliver signficant performance improvements 1-2 orders of magnitude."
    }
  ],
  "metadata": {
    "celltoolbar": "Slideshow",
    "kernelspec": {
      "name": "python36",
      "display_name": "Python 3.6",
      "language": "python"
    },
    "language_info": {
      "mimetype": "text/x-python",
      "nbconvert_exporter": "python",
      "name": "python",
      "pygments_lexer": "ipython3",
      "version": "3.6.6",
      "file_extension": ".py",
      "codemirror_mode": {
        "version": 3,
        "name": "ipython"
      }
    }
  },
  "nbformat": 4,
  "nbformat_minor": 2
}