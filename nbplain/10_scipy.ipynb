{
  "cells": [
    {
      "metadata": {
        "slideshow": {
          "slide_type": "slide"
        }
      },
      "cell_type": "markdown",
      "source": "# SciPy\n\n#### Authors: Neelofer Bangawala, Arno Proeme, Kevin Stratford, Andy Turner, EPCC, University of Edinburgh"
    },
    {
      "metadata": {
        "slideshow": {
          "slide_type": "slide"
        }
      },
      "cell_type": "markdown",
      "source": "## Overview:\n\n* NumPy provides arrays and limited additional functionality\n\n\n* SciPy builds on NumPy and provides additional modules:\n  * Linear Algebra and wrappers to LAPACK & BLAS `scipy.linalg`\n  * Numerical Integration `scipy.integrate` \n  * Interpolation `scipy.interpolate`\n  * Optimisation `scipy.optimize` \n  * Special functions `scipy.special`\n  * Signal processing `scipy.signal`\n  * Image Processing `scipy.ndimage`\n  * Fourier transforms `scipy.fftpack`\n  * Statistical functions `stats` \n  * Spatial data structures and algorithms `scipy.spatial`\n  * File I/O e.g. to read MATLAB files `scipy.io`"
    },
    {
      "metadata": {
        "slideshow": {
          "slide_type": "slide"
        }
      },
      "cell_type": "markdown",
      "source": "## Useful links\n\n\n* Note: no PDE solvers (though other packages exist) \n\n\n* Documentation: \n  * http://docs.scipy.org/doc/scipy/reference/tutorial/\n  \n  * http://docs.scipy.org/doc/scipy/reference/\n  \n  * http://scipy-cookbook.readthedocs.org"
    },
    {
      "metadata": {},
      "cell_type": "markdown",
      "source": " "
    },
    {
      "metadata": {
        "slideshow": {
          "slide_type": "slide"
        }
      },
      "cell_type": "markdown",
      "source": "## Linear algebra\n\n\n* Wider set of linear algebra operations than in Numpy \n\n  * <p style=\"font-size: 100%\">various decompositions (eigen, singular value)</p>\n  * <p style=\"font-size: 100%\">matrix exponentials, trigonometric functions</p> \n  * <p style=\"font-size: 100%\">particular matrix equations and special matrices</p>\n  * <p style=\"font-size: 100%\">low-level LAPACK and BLAS routines</p>\n  \n  \n* Routines also for sparse matrices\n  * <p style=\"font-size: 100%\">storage formats</p> \n  * <p style=\"font-size: 100%\">iterative algorithms</p>"
    },
    {
      "metadata": {},
      "cell_type": "markdown",
      "source": "  "
    },
    {
      "metadata": {
        "slideshow": {
          "slide_type": "slide"
        }
      },
      "cell_type": "markdown",
      "source": "## Example: Matrix inverse\n\nConsider:\n\n$$\nA = \\left[ \\begin{array}\n{rrr}\n1 & 3 & 5 \\\\\n 2 & 5 & 1 \\\\\n 2 & 3 & 8 \\\\\n\\end{array} \\right]\n$$\n\nThe inverse of $A$ is\n\n$$\nA^{-1} = \n\\frac{1}{25} \\left[ \\begin{array}\n{rrr}\n-37 & 9 & 22\\\\\n14 & 2 & -9 \\\\ \n4 & -3 & 1\\\\\n\\end{array} \\right]\n\\approx\n\\left[ \\begin{array}\n{rrr}\n-1.48 & 0.36 &  0.88\\\\\n-0.56 &  0.08 & -0.36 \\\\ \n0.16 & -0.12 &  0.04\\\\\n\\end{array} \\right]\n$$\n\nwhich may be confirmed by checking $A A^{-1} = I$ where $I$ is the identity.\n"
    },
    {
      "metadata": {
        "slideshow": {
          "slide_type": "subslide"
        }
      },
      "cell_type": "markdown",
      "source": "## Exercise Matrix inverse\n\n\nFind inverse of matrix A (as defined above). Check the result by multiplying out  $A A^{-1}$ , which should give \nidentity matrix  $I$"
    },
    {
      "metadata": {
        "scrolled": true,
        "slideshow": {
          "slide_type": "-"
        },
        "trusted": true
      },
      "cell_type": "code",
      "source": "# numpy has a function to produce the 2D identity matrix I\n# query: ?np.eye\n\nfrom scipy import linalg\nA = ...",
      "execution_count": null,
      "outputs": []
    },
    {
      "metadata": {
        "slideshow": {
          "slide_type": "subslide"
        }
      },
      "cell_type": "markdown",
      "source": "## Solution  Matrix inverse\n"
    },
    {
      "metadata": {
        "trusted": true
      },
      "cell_type": "code",
      "source": "# Execute this cell to see a solution \n%load ../code/inverse.py",
      "execution_count": null,
      "outputs": []
    },
    {
      "metadata": {},
      "cell_type": "markdown",
      "source": " "
    },
    {
      "metadata": {
        "slideshow": {
          "slide_type": "subslide"
        }
      },
      "cell_type": "markdown",
      "source": "## Integration  `scipy.integrate`\n\n\n* Routines for numerical integration – single, double and triple integrals \n* Can solve Ordinary Differential Equations (ODEs) with initial conditions\n\n### Example : Double integral\nCalculate $\\pi$ using the double integral for the area of a circle with radius $r$: <br>\n\n$$\n\\int _{x_{min}} ^{x_{max}}\\, dx \\int _{g(x)} ^{h(x)} f(x,y) \\, dy = \\int _{-r} ^{r} \\int _{-\\sqrt(r^2-x^2)} ^{\\sqrt(r^2-x^2)} 1 \\, dx\\, dy = \\pi r^2\n$$\n\nWe will solve this with `scipy.integrate.dblquad()`\n\nhttp://docs.scipy.org/doc/scipy-0.17.0/reference/generated/scipy.integrate.dblquad.html\n<br>\n<br>"
    },
    {
      "metadata": {
        "scrolled": true,
        "slideshow": {
          "slide_type": "-"
        },
        "trusted": true
      },
      "cell_type": "code",
      "source": "# numerically integrate using dblquad()\n\nimport numpy as np\nfrom scipy.integrate import dblquad\n\n# order of variables matters! y before x\n\ndef integrand(y, x):\n    return 1\n\ndef xminlim(x, r):\n    return -1*np.sqrt(r*r - x*x)\n\ndef xmaxlim(x, r):\n    return np.sqrt(r*r - x*x)\n\n# integral for the area of a circle with radius r\ndef integrate_to_pi(r): \n    (area,err) = dblquad(integrand, -1*r, r, \n                         lambda x: xminlim(x,r), \n                         lambda x: xmaxlim(x,r))\n    return area/(r*r)\n",
      "execution_count": null,
      "outputs": []
    },
    {
      "metadata": {
        "slideshow": {
          "slide_type": "subslide"
        }
      },
      "cell_type": "markdown",
      "source": "## Integration : Check result\n\nCalculate the result and compare with the standard `numpy.pi`"
    },
    {
      "metadata": {
        "scrolled": true,
        "slideshow": {
          "slide_type": "-"
        },
        "trusted": true
      },
      "cell_type": "code",
      "source": "# %load pi_integration_check.py\n# calculate pi using numerical integration and check result against numpy constant np.pi\n\nprint(integrate_to_pi(1.0))\n\n# compare with numpy pi\nprint(np.pi - integrate_to_pi(1.0))\n\n# can try timing... (uncomment line below)\n# %timeit integrate_to_pi(1.0) \n",
      "execution_count": null,
      "outputs": []
    },
    {
      "metadata": {},
      "cell_type": "markdown",
      "source": "  "
    },
    {
      "metadata": {
        "slideshow": {
          "slide_type": "subslide"
        }
      },
      "cell_type": "markdown",
      "source": "## Exercise : Double integral\n\nCalculate the double integral\n\n$$\n\\int_0^{\\pi/2} dx \\int_0^1 dy \\quad f(x,y)\n$$\n\nwhere $f(x,y) = y sin(x)$. The answer should be 1/2.\n<br>\n<br>"
    },
    {
      "metadata": {
        "scrolled": true,
        "slideshow": {
          "slide_type": "-"
        },
        "trusted": true
      },
      "cell_type": "code",
      "source": "# Use the same approach here as above\n\ndef integrand1(y,x):\n    return y*np.sin(x)\n",
      "execution_count": null,
      "outputs": []
    },
    {
      "metadata": {
        "slideshow": {
          "slide_type": "subslide"
        }
      },
      "cell_type": "markdown",
      "source": "## Solution Double integral\n"
    },
    {
      "metadata": {
        "slideshow": {
          "slide_type": "-"
        },
        "trusted": true
      },
      "cell_type": "code",
      "source": "# Execute this cell to see a solution \n%load ../code/integration.py",
      "execution_count": null,
      "outputs": []
    },
    {
      "metadata": {
        "slideshow": {
          "slide_type": "subslide"
        }
      },
      "cell_type": "markdown",
      "source": "## Example Pendulum\n\nSolve Ordinary Differential Equations (ODEs) with initial conditions, for example motion of simple pendulum.\n\nA point mass, $m$, is attached to the end of a massless rigid rod of length $l$. The pendulum is acted on by gravity and friction. We can describe the resulting motion of the pendulum by angle, $\\theta$, it makes with the vertical. \n\n<img src=\"pendulum.png\"; style=\"float: right; width: 40%; margin-right: 3%; margin-top: 0%; margin-bottom: -1%\">  <br>\n\nAssuming angle $\\theta$ always remains small, we can write a second-order differential equation to describe the motion of the mass according to Newton's 2nd law of motion, $m\\,a = F$, in terms of $\\theta$:\n\n$$\n\\ddot{\\theta} = -\\frac{g}{l}\\,\\theta - \\frac{b}{m}\\,\\dot\\theta\n$$\n\nwhere $b$ is a constant of friction and $b \\ll g$.\n\n\nTo use `odeint`, we rewrite the above equation as 2 first-order differential equations:\n\n\n$\n\\dot{\\theta} = \\omega\n$\n\n$\n\\dot{\\omega}= -\\frac{g}{l}\\,\\theta - \\frac{b}{m}\\,\\omega\n$\n\n"
    },
    {
      "metadata": {
        "slideshow": {
          "slide_type": "subslide"
        }
      },
      "cell_type": "markdown",
      "source": "## Pendulum (cont.)\n\n\n<p style=\"font-size: 100%\"> Define the ODE as a function and set up parameters and initial values. </p>"
    },
    {
      "metadata": {
        "scrolled": true,
        "slideshow": {
          "slide_type": "-"
        },
        "trusted": true
      },
      "cell_type": "code",
      "source": "# ode as a function\n\n# let y be vector  [theta, omega]\ndef pendulumNumerical(y, t, b, m, g, length):\n    theta, omega = y\n    dydt = [omega, -(b/m)*omega - (g/length)*(theta)]\n    return dydt",
      "execution_count": null,
      "outputs": []
    },
    {
      "metadata": {
        "scrolled": true,
        "slideshow": {
          "slide_type": "-"
        },
        "trusted": true
      },
      "cell_type": "code",
      "source": "# Parameters and initial values\nm = 1.0                # mass of bob\nlength = 1.0           # length of pendulum\nb = 0.25               # friction constant\ng = 9.81               # gravitational constant\ntheta0 = np.pi-0.01    # initial angle\nw0 = 0.0               # initial omega\n\n# create a vector with the initial angle and initial omega\ny0 = [theta0, w0]",
      "execution_count": null,
      "outputs": []
    },
    {
      "metadata": {
        "trusted": true
      },
      "cell_type": "code",
      "source": "# time interval (use more points for exact solution \"tex\")\nstoptime = 10         # total number of seconds\nnumpoints = 51       # number of points interval\n\nt = np.linspace(0, stoptime, numpoints)\ntex = np.linspace(0, stoptime, 10*numpoints)",
      "execution_count": null,
      "outputs": []
    },
    {
      "metadata": {
        "trusted": true
      },
      "cell_type": "code",
      "source": "# ODE solver parameters\nabserr = 1.0e-3      # absolute error tolerance\nrelerr = 1.0e-1      # relative error tolerance",
      "execution_count": null,
      "outputs": []
    },
    {
      "metadata": {},
      "cell_type": "markdown",
      "source": "## Pendulum (cont.)\n\nUse <i>odeint</i> to numerically solve the ODE with initial conditions."
    },
    {
      "metadata": {
        "scrolled": true,
        "slideshow": {
          "slide_type": "-"
        },
        "trusted": true
      },
      "cell_type": "code",
      "source": "# import odeint solver\nfrom scipy.integrate import odeint",
      "execution_count": null,
      "outputs": []
    },
    {
      "metadata": {
        "scrolled": true,
        "slideshow": {
          "slide_type": "-"
        },
        "trusted": true
      },
      "cell_type": "code",
      "source": "# get solution. Note args are given as a tuple\nsolution = odeint(pendulumNumerical, y0, t, args=(b,m,g,length),\\\n                  atol=abserr, rtol=relerr)",
      "execution_count": null,
      "outputs": []
    },
    {
      "metadata": {},
      "cell_type": "markdown",
      "source": "The ODE can be solved analytically. The exact solutions for $\\theta$ and $\\omega$ are:"
    },
    {
      "metadata": {
        "trusted": true
      },
      "cell_type": "code",
      "source": "# Exact solution for theta\ndef pendulumTheta(t, theta0, b, m, g, length):\n    root = np.sqrt( np.abs( b*b - 4.0*g*m*m/length ) )\n    sol = theta0*np.exp(-b*t/2)*( np.cos( root*t/2 ) \\\n                                 + (b/root)*np.sin( root*t/2) )\n    return sol",
      "execution_count": null,
      "outputs": []
    },
    {
      "metadata": {
        "trusted": true
      },
      "cell_type": "code",
      "source": "# Exact solution for omega\ndef pendulumOmega(t, theta0, b, m, g, length):\n    root = np.sqrt( np.abs( b*b - 4.0*g*m*m/length ) )\n    sn = np.sin(root*t/2.0)\n    cs = np.cos(root*t/2.0)\n    sol = -(b/2)*theta0*np.exp(-b*t/2)*( cs + (b/root)*sn ) \\\n        + (theta0/2)*np.exp(-b*t/2)*( b*cs - root*sn )\n    return sol",
      "execution_count": null,
      "outputs": []
    },
    {
      "metadata": {
        "slideshow": {
          "slide_type": "subslide"
        }
      },
      "cell_type": "markdown",
      "source": "## Exercise  Pendulum\n\n\nTo see how good the numerical solutions for $\\theta$ and $\\omega$ are, plot the exact solutions against the\nnumerical solutions for the appropriate range of $t$.\n\nYou should include a legend to label the different lines/points.\n\nYou should find that the numerical solution looks quite good. Can you adjust the parameters above\n(re-execute all the relevant cells) to make it better?"
    },
    {
      "metadata": {
        "trusted": true
      },
      "cell_type": "code",
      "source": "%matplotlib inline\n",
      "execution_count": null,
      "outputs": []
    },
    {
      "metadata": {
        "slideshow": {
          "slide_type": "subslide"
        }
      },
      "cell_type": "markdown",
      "source": "## Solution Pendulum\n"
    },
    {
      "metadata": {
        "scrolled": true,
        "slideshow": {
          "slide_type": "-"
        },
        "trusted": true
      },
      "cell_type": "code",
      "source": "# Execute this cell to see a solution \n%load ../code/pendulum.py",
      "execution_count": null,
      "outputs": []
    },
    {
      "metadata": {},
      "cell_type": "markdown",
      "source": " "
    },
    {
      "metadata": {
        "slideshow": {
          "slide_type": "slide"
        }
      },
      "cell_type": "markdown",
      "source": "## Optimisation\n\n\n* Several classical optimisation algorithms\n  * Least squares fitting\n  * Quasi-Newton type optimisations\n  * Simulated annealing\n  * General purpose root finding\n"
    },
    {
      "metadata": {
        "slideshow": {
          "slide_type": "subslide"
        }
      },
      "cell_type": "markdown",
      "source": "## Least-squares fit\n\n\nUse `scipy.optimize.leastsq` to fit some measured data, $\\{x_i,\\,y_i\\}$, to a function:\n\n$$\ny\\,=\\,A\\,\\sin(2\\pi k x \\,+\\, \\theta)\n$$\n\nwhere the parameters $A$, $k$, and $\\theta$ are unknown. The residual vector, that will be squared and summed by `leastsq` to fit the data, is:\n\n$$\ne_i\\,=\\, ∣∣ \\, y_i \\,− \\,A\\sin(2\\pi k x_i + \\theta)∣∣\n$$\n\nBy defining a function to compute the residuals, $e_i$, and, selecting appropriate starting values, `leastsq` can be used to find the best-fit parameters $\\hat{A}$, $\\hat{k}$, $\\hat{\\theta}$."
    },
    {
      "metadata": {
        "slideshow": {
          "slide_type": "subslide"
        }
      },
      "cell_type": "markdown",
      "source": "## Least-squares fit\n\n\nCreate a sample of true values, and the \"measured\" (noisy) data. Define the residual function and initial values."
    },
    {
      "metadata": {
        "scrolled": true,
        "slideshow": {
          "slide_type": "-"
        },
        "trusted": true
      },
      "cell_type": "code",
      "source": "# set up true function and \"measured\" data\nx = np.arange(0, 6e-2, 6e-2 / 30)\nA, k, theta = 10, 1.0 / 3e-2, np.pi / 6\n\ny_true = A * np.sin(2.0*np.pi*k*x + theta)\ny_meas = y_true + 2.0*np.random.randn(len(x))",
      "execution_count": null,
      "outputs": []
    },
    {
      "metadata": {
        "scrolled": true,
        "slideshow": {
          "slide_type": "-"
        },
        "trusted": true
      },
      "cell_type": "code",
      "source": "# Function to compute the residual\ndef residuals(p, y, x):\n    A, k, theta = p\n    err = y - A * np.sin(2 * np.pi * k * x + theta)\n    return err",
      "execution_count": null,
      "outputs": []
    },
    {
      "metadata": {
        "slideshow": {
          "slide_type": "subslide"
        }
      },
      "cell_type": "markdown",
      "source": "## Least-squares fit\n\n\nFor easy evaluation of the model function parameters [A, K, theta], we define a function."
    },
    {
      "metadata": {
        "scrolled": true,
        "slideshow": {
          "slide_type": "-"
        },
        "trusted": true
      },
      "cell_type": "code",
      "source": "def peval(x, p):\n    return p[0]*np.sin(2.0*np.pi*p[1]*x + p[2])\n\n# starting values of A, k and theta\np0 = [8, 1 / 2.3e-2, np.pi / 3]\nprint(np.array(p0))",
      "execution_count": null,
      "outputs": []
    },
    {
      "metadata": {
        "slideshow": {
          "slide_type": "subslide"
        }
      },
      "cell_type": "markdown",
      "source": "## Least-squares fit\n\n\nDo least squares fitting and plot results"
    },
    {
      "metadata": {
        "scrolled": true,
        "slideshow": {
          "slide_type": "-"
        },
        "trusted": true
      },
      "cell_type": "code",
      "source": "# do least squares fitting\nfrom scipy.optimize import leastsq\n\nplsq = leastsq(residuals, p0, args=(y_meas, x))\nprint(plsq[0])\nprint(np.array([A, k, theta]))",
      "execution_count": null,
      "outputs": []
    },
    {
      "metadata": {
        "scrolled": true,
        "slideshow": {
          "slide_type": "-"
        },
        "trusted": true
      },
      "cell_type": "code",
      "source": "# and plot the true function, measured (noisy) data \n# and the model function with fitted parameters \nplt.plot(x, peval(x, plsq[0]), x, y_meas, 'o', x, y_true)\n\nplt.title('Least-squares fit to noisy data')\nplt.legend(['Fit', 'Noisy', 'True'])\nplt.show()",
      "execution_count": null,
      "outputs": []
    },
    {
      "metadata": {},
      "cell_type": "markdown",
      "source": " "
    },
    {
      "metadata": {
        "slideshow": {
          "slide_type": "slide"
        }
      },
      "cell_type": "markdown",
      "source": "## Special functions\n\n\n* SciPy contains huge set of special functions \n  * Bessel functions\n  * Legendre functions\n  * Gamma functions \n  * Airy functions \n \nWe will see special functions used in the following sections.\n"
    },
    {
      "metadata": {
        "collapsed": true
      },
      "cell_type": "markdown",
      "source": " "
    },
    {
      "metadata": {
        "slideshow": {
          "slide_type": "skip"
        }
      },
      "cell_type": "markdown",
      "source": "## Example: `scipy.special`\n\n\n* Many problems with circular or cylindrical symmetry have solutions involving Bessel functions\n* E.g., height of a oscillating drumhead related to $J_n(x)$\n\nWe will use\n\nhttp://docs.scipy.org/doc/scipy-0.14.0/reference/special.html\n"
    },
    {
      "metadata": {
        "scrolled": true,
        "slideshow": {
          "slide_type": "skip"
        },
        "trusted": true
      },
      "cell_type": "code",
      "source": "# drumhead example\nfrom scipy import special\n\ndef drumhead_height(n, k, distance, angle, t):\n    # kth zero is last element of returned array\n    kth_zero = special.jn_zeros(n, k)[-1]\n    return (np.cos(t) * np.cos(n*angle) * special.jn(n, distance*kth_zero))",
      "execution_count": null,
      "outputs": []
    },
    {
      "metadata": {
        "scrolled": true,
        "slideshow": {
          "slide_type": "skip"
        },
        "trusted": true
      },
      "cell_type": "code",
      "source": "theta = np.r_[0:2*np.pi:50j]\nradius = np.r_[0:1:50j]\nprint(theta)\n\nx = np.array([r * np.cos(theta) for r in radius])\ny = np.array([r * np.sin(theta) for r in radius])\nz = np.array([drumhead_height(1, 1, r, theta, 0.5)\n              for r in radius])\n# contd...",
      "execution_count": null,
      "outputs": []
    },
    {
      "metadata": {
        "slideshow": {
          "slide_type": "skip"
        }
      },
      "cell_type": "markdown",
      "source": "## Drumhead (cont.)\n\nPlot the height of a drumhead using a 3-d axis set\n "
    },
    {
      "metadata": {
        "scrolled": true,
        "slideshow": {
          "slide_type": "skip"
        },
        "trusted": true
      },
      "cell_type": "code",
      "source": "# ...contd\n%matplotlib inline\nimport matplotlib.pyplot as plt\nfrom mpl_toolkits.mplot3d import Axes3D\nfrom matplotlib import cm\n\nfig = plt.figure(figsize=(8, 4))\nax = Axes3D(fig)\nax.plot_surface(x, y, z, rstride=1, cstride=1, cmap=cm.jet)\nax.set_xlabel('X')\nax.set_ylabel('Y')\nax.set_zlabel('Z')\nplt.show()",
      "execution_count": null,
      "outputs": []
    },
    {
      "metadata": {
        "slideshow": {
          "slide_type": "slide"
        }
      },
      "cell_type": "markdown",
      "source": "## Summary\n\nSciPy has a wide range of useful functionality for scientific computing\n\nIn case it does not have what you need, there are other packages with specialised functionality.\n\n#### Other packages\n\n* Pandas\n\n  * Offers R-like statistical analysis of numerical tables and time series\n\n\n* SymPy\n\n  * Python library for symbolic computing\n\n\n* scikit-image\n\n  * Advanced image processing\n  \n  \n* scikit-learn\n\n  * Package for machine learning\n  \n  \n* Sage\n\n  * Open source replacement for Mathematica / Maple / Matlab (built using Python)"
    }
  ],
  "metadata": {
    "anaconda-cloud": {},
    "celltoolbar": "Raw Cell Format",
    "kernelspec": {
      "name": "python3",
      "display_name": "Python 3",
      "language": "python"
    },
    "language_info": {
      "mimetype": "text/x-python",
      "nbconvert_exporter": "python",
      "name": "python",
      "file_extension": ".py",
      "version": "3.5.4",
      "pygments_lexer": "ipython3",
      "codemirror_mode": {
        "version": 3,
        "name": "ipython"
      }
    }
  },
  "nbformat": 4,
  "nbformat_minor": 1
}