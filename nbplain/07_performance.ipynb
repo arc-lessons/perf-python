{
  "cells": [
    {
      "metadata": {
        "slideshow": {
          "slide_type": "slide"
        }
      },
      "cell_type": "markdown",
      "source": "# Performance"
    },
    {
      "metadata": {
        "slideshow": {
          "slide_type": "subslide"
        }
      },
      "cell_type": "markdown",
      "source": "##### Overview:\n- **Teaching:** 5 min\n- **Exercises:** 15 min\n\n**Questions**\n- How does using `numpy` help me write more efficient code?\n- How can I find out how to check performance of codes in `Python`?\n\n**Objectives**\n- Know that `Numpy` and `SciPy` use a C or Fortran and make use of other standard libraries to support their built-in functions.\n- Use `timeit` to time code execution."
    },
    {
      "metadata": {
        "slideshow": {
          "slide_type": "slide"
        }
      },
      "cell_type": "markdown",
      "source": "## Timeit\n\nPython has a convenient timing function called `timeit`, which is also avaailable as magic in Ipython/Jupyter notebooks\n\nCan use this to measure the execution time of small code snippets.\n\n* From python: `import timeit` and supply code  snippet as a string\n* From ipython: can use magic command `%timeit`\n\nBy default, `%timeit` repeats the code 3 times and outputs the best time. It also tells you how many iterations it ran the code per repeat. \nYou can specify the number of repeats and the number of iterations per repeat.\n```python\n%timeit -n <iterations> -r <repeats>  <code_snippet>\n```\nIf you want to run multiple lines of code in a cell block then you need to use:\n```python\n%%timeit -n <iterations> -r <repeats>\n<code_snippet1>\n<code_snippet2>\n````\nSee\n\n* `%timeit?` for more information\n* https://docs.python.org/3/library/timeit.html\n\nFirst as always we must import `numpy`:"
    },
    {
      "metadata": {
        "slideshow": {
          "slide_type": "subslide"
        },
        "trusted": true
      },
      "cell_type": "code",
      "source": "import numpy as np",
      "execution_count": 1,
      "outputs": []
    },
    {
      "metadata": {
        "slideshow": {
          "slide_type": "slide"
        }
      },
      "cell_type": "markdown",
      "source": "Let's create ourselves an array as before and change their shape."
    },
    {
      "metadata": {
        "slideshow": {
          "slide_type": "subslide"
        },
        "trusted": true
      },
      "cell_type": "code",
      "source": "nd = np.arange(100).reshape((10,10))",
      "execution_count": 2,
      "outputs": []
    },
    {
      "metadata": {
        "slideshow": {
          "slide_type": "subslide"
        }
      },
      "cell_type": "markdown",
      "source": "We can use magic `%timeit` to time hold long it takes to access elements of the array, and explore which method for accessing elements of an array is quicker."
    },
    {
      "metadata": {
        "slideshow": {
          "slide_type": "subslide"
        },
        "trusted": true
      },
      "cell_type": "code",
      "source": "# accessing element of 2d array\n%timeit -n 10000000 -r 3 nd[5][5]\n%timeit -n 10000000 -r 3 nd[(5,5)]",
      "execution_count": 3,
      "outputs": [
        {
          "output_type": "stream",
          "text": "322 ns ± 7.12 ns per loop (mean ± std. dev. of 3 runs, 10000000 loops each)\n159 ns ± 7.17 ns per loop (mean ± std. dev. of 3 runs, 10000000 loops each)\n",
          "name": "stdout"
        }
      ]
    },
    {
      "metadata": {
        "slideshow": {
          "slide_type": "slide"
        }
      },
      "cell_type": "markdown",
      "source": "All accesses are not equal.  If we want to time multiple lines of code the we can use the `%%timeit` with default settings:"
    },
    {
      "metadata": {
        "slideshow": {
          "slide_type": "subslide"
        },
        "trusted": true
      },
      "cell_type": "code",
      "source": "%%timeit\nnd[5][5]\nnd[(5,5)]",
      "execution_count": 4,
      "outputs": [
        {
          "output_type": "stream",
          "text": "469 ns ± 31.9 ns per loop (mean ± std. dev. of 7 runs, 1000000 loops each)\n",
          "name": "stdout"
        }
      ]
    },
    {
      "metadata": {
        "slideshow": {
          "slide_type": "subslide"
        }
      },
      "cell_type": "markdown",
      "source": "Though note that now we just get time time for the entire code block.  Using the default settings can be good when we don't know how long a code block will take to execute, as `timeit` will decide how many instances or *loops* to run, to get reasonable statistics in reasonable time."
    },
    {
      "metadata": {
        "slideshow": {
          "slide_type": "slide"
        }
      },
      "cell_type": "markdown",
      "source": "## Exercise: Lists\n\nCompare the performance of `numpy` arrays and lists.  E.g. make list\n\n```python\nsize = 1000000\nmy_list = list(range(size))\nmy_array = np.arange(size)\n```\n\nTry timing some simple operations, e.g. multiply, square, raise to a power.  You may need to import additional libraries to does this with lists, e.g. `import math` to get non-numpy implementations."
    },
    {
      "metadata": {
        "slideshow": {
          "slide_type": "slide"
        }
      },
      "cell_type": "markdown",
      "source": "## Exercise: Ranges\n\nIn many cases we do not need to create an array but can use the built-in or numpy `range` functions to perform loops directly.  Try the following examples and again explore the performance of different functions.\n\n```python\nsize = 1000000\n\n%timeit for x in range(size): x**2\n\n%timeit for x in np.arange(size): x**2\n```\n\nWhat is the relative performance of the two implementations, and why do you think this is the case?  Can you think of another way of performing the same functionality more efficiently?\n\n[Solution]()"
    },
    {
      "metadata": {
        "slideshow": {
          "slide_type": "slide"
        }
      },
      "cell_type": "markdown",
      "source": "## Solution+: Ranges\n\nFirst execute the code as provided"
    },
    {
      "metadata": {
        "slideshow": {
          "slide_type": "subslide"
        },
        "trusted": true
      },
      "cell_type": "code",
      "source": "size = 1000000\n\n%timeit for x in range(size): x**2\n\n%timeit for x in np.arange(size): x**2",
      "execution_count": 5,
      "outputs": [
        {
          "output_type": "stream",
          "text": "329 ms ± 19.7 ms per loop (mean ± std. dev. of 7 runs, 1 loop each)\n288 ms ± 14.6 ms per loop (mean ± std. dev. of 7 runs, 1 loop each)\n",
          "name": "stdout"
        }
      ]
    },
    {
      "metadata": {
        "slideshow": {
          "slide_type": "subslide"
        }
      },
      "cell_type": "markdown",
      "source": "The peformance here shows little apparent benefit from using `numpy`.  The problem is that while we are using a `numpy`'s `arange` to perform the loop, the calculation `x**2` is the same built-in function being called in the same fashion.\n\nIf we want to make use of `numpy`'s vectorisation we need to simplify our code:"
    },
    {
      "metadata": {
        "slideshow": {
          "slide_type": "subslide"
        },
        "trusted": true
      },
      "cell_type": "code",
      "source": "%timeit np.arange(size)**2",
      "execution_count": 6,
      "outputs": [
        {
          "output_type": "stream",
          "text": "6.03 ms ± 775 µs per loop (mean ± std. dev. of 7 runs, 100 loops each)\n",
          "name": "stdout"
        }
      ]
    },
    {
      "metadata": {
        "slideshow": {
          "slide_type": "subslide"
        }
      },
      "cell_type": "markdown",
      "source": "We now see a significant improvement in performance.  Is this accessing the *billions of calculations per second* that modern processors promise?  Try this with other maths functions/operations.\n\n:Solution+"
    },
    {
      "metadata": {},
      "cell_type": "markdown",
      "source": "## Exercise: Darts and calculating $\\pi$\n\n### [A Monte Carlo method](https://en.wikipedia.org/wiki/Monte_Carlo_method) (aka \"throwing darts\")\n\nGeometry gives us an expression for $\\pi$: the area of a circle radius $r$ divided by the area of a square with length $r$:\n\n$$\n\\pi = \\pi r^2  / r^2\n$$\n\nWe can estimate the area of a circle and a square by throwing darts. If $N_{in}$ is the number of darts falling on the dart board (quarter circle), and $N_{tot}$ is the total number of trials (i.e. darts falling on the square):\n\n$$\n\\pi \\approx 4 N_{in} / N_{tot}\n$$\n\nTry using numpy arrays to compute the following:\n1. Choose a sample size `ntot`\n2. Generate an array of random $x$ coordinates $0 \\leq x < 1$.\n3. Generate an array of random $y$ coordinates $0 \\leq y < 1$.\n4. Count the number for which $x^2 + y^2 < 1$\n5. Compute approximation to $\\pi$"
    },
    {
      "metadata": {
        "slideshow": {
          "slide_type": "slide"
        }
      },
      "cell_type": "markdown",
      "source": "## Key Points:\n- You can use the `timeit` function/magic to evaluate the performance of your code\n- Just because you *use numpy* does not magically improve the performance of your code\n- Making appropriate use of `numpy` vectorisation (and libraries compiled against the intel maths library!) can give significant performance improvements\n- Vectorisation can also make our code easier to read and write!"
    }
  ],
  "metadata": {
    "celltoolbar": "Slideshow",
    "kernelspec": {
      "name": "python36",
      "display_name": "Python 3.6",
      "language": "python"
    },
    "language_info": {
      "mimetype": "text/x-python",
      "nbconvert_exporter": "python",
      "name": "python",
      "pygments_lexer": "ipython3",
      "version": "3.6.6",
      "file_extension": ".py",
      "codemirror_mode": {
        "version": 3,
        "name": "ipython"
      }
    }
  },
  "nbformat": 4,
  "nbformat_minor": 2
}