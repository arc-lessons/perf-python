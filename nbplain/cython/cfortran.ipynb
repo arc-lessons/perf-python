{
 "cells": [
  {
   "cell_type": "markdown",
   "metadata": {},
   "source": [
    "<hr style=\"border: solid 1px red; margin-bottom: 2% \">\n",
    "### ARCHER SCIENTIFIC PYTHON COURSE:\n",
    "# C/Fortran Interface\n",
    "<hr style=\"border: solid 1px red; margin-bottom: -1%; \">\n",
    "\n",
    "## Website:  http://www.archer.ac.uk \n",
    "\n",
    "## Helpdesk: support@archer.ac.uk\n",
    "\n",
    "<br>\n",
    "\n",
    "<img src=\"images/epsrclogo.png\" style=\"width: 40%;\">\n",
    "<br>\n",
    "<img src=\"images/nerclogo.png\" style=\"width: 40%;\">\n",
    "\n",
    "<br>\n",
    "<img src=\"images/craylogo.png\" style=\"width: 40%;\">\n",
    "\n",
    "<br>\n",
    "<img src=\"images/epcclogo.png\" style=\"width: 40%;\">\n",
    "\n",
    "<br>\n",
    "<img src=\"images/ediunilogo.png\" style=\"width: 40%\" > \n",
    "\n",
    "<br>\n",
    "<br>"
   ]
  },
  {
   "cell_type": "markdown",
   "metadata": {},
   "source": [
    "<img src=\"images/reusematerial.png\" style=\"width: 90\">\n",
    "<br>\n",
    "<br>"
   ]
  },
  {
   "cell_type": "markdown",
   "metadata": {
    "slideshow": {
     "slide_type": "slide"
    }
   },
   "source": [
    "<br>\n",
    "<hr class=\"top\">\n",
    "# C/Fortran Interface\n",
    "<hr class=\"bot\">\n",
    "<br>\n",
    "\n",
    "## Presenter: Kevin Stratford\n",
    "\n",
    "#### Contributing authors:\n",
    "#### Neelofer Banglawala, Arno Proeme, Kevin Stratford, Andy Turner\n",
    "\n",
    "<br>\n",
    "<br>\n",
    "<br>\n",
    "\n"
   ]
  },
  {
   "cell_type": "markdown",
   "metadata": {
    "slideshow": {
     "slide_type": "slide"
    }
   },
   "source": [
    "<br>\n",
    "<hr class=\"top\">\n",
    "## Why couple python with another language?\n",
    "<hr class=\"top\">\n",
    "<br>\n",
    "\n",
    "* Provide glue to organise complex tasks\n",
    "\n",
    "  * Handle complex software coordination provided by Python\n",
    "\n",
    "\n",
    "* Combine performance of compiled codes with flexibility of Python\n",
    "\n",
    "  * e.g. incorporate Python analysis and visualisation into existing codebase\n",
    "  * Provide flexible way to extract results from code using Python \n",
    "\n",
    "\n",
    "* Reuse code that you already have\n",
    "\n",
    "  * Gradually introduce new functionality using Python\n",
    "\n",
    "\n",
    "\n",
    "* <p style=\"font-size: 100%\">More info: </p>\n",
    "\n",
    "  * <p style=\"font-size: 100%\"> http://docs.scipy.org/doc/numpy-dev/f2py/ </p>\n",
    "  * <p style=\"font-size: 100%\"> http://scipy-cookbook.readthedocs.org </p>\n",
    "  * <p style=\"font-size: 100%\"> http://www.f2py.com/home/ </p>"
   ]
  },
  {
   "cell_type": "markdown",
   "metadata": {
    "slideshow": {
     "slide_type": "slide"
    }
   },
   "source": [
    "<br>\n",
    "<hr class=\"top\">\n",
    "## Extension modules\n",
    "<hr class=\"bot\">\n",
    "<br>\n",
    "\n",
    "* Basic approach is to compile *extension modules*\n",
    "\n",
    "  * Compiles native langauge source \n",
    "  * Adds a wrapper which provides the interface\n",
    "\n",
    "\n",
    "* Requires\n",
    "\n",
    "  * Appropriate compiler (e.g., `gfortran`, `cc`, `...`)\n",
    "  * A clear understanding of the number of types of any arguments\n",
    "\n",
    "\n",
    "* Will produce\n",
    "\n",
    "  * Extension module (shared library `.so`) loaded at run time\n",
    "  * `import` extension module as usual\n",
    "\n",
    "\n",
    "* Some care may be required with compound/opaque data types\n",
    "<br>\n",
    "<br>"
   ]
  },
  {
   "cell_type": "markdown",
   "metadata": {
    "slideshow": {
     "slide_type": "slide"
    }
   },
   "source": [
    "<br>\n",
    "<hr class=\"top\">\n",
    "## Different approaches\n",
    "<hr class=\"bot\">\n",
    "<br>\n",
    "\n",
    "* Fortran\n",
    "\n",
    "    * `f2py` is part of Numpy will handle external subroutines\n",
    "    * Modern Fortran requires, e.g., `f90wrap`\n",
    "\n",
    "\n",
    "* C (more choice)\n",
    "\n",
    "  * `f2py` can be used (a kludge)\n",
    "  * C native interface\n",
    "  * Cython\n",
    "  * Swig\n",
    "  * ctypes/CFFI\n",
    "\n",
    "\n",
    "* Various other approaches\n",
    "\n",
    "   * Weave, Numba\n",
    "   \n",
    "<br>\n",
    "<br>"
   ]
  },
  {
   "cell_type": "markdown",
   "metadata": {
    "slideshow": {
     "slide_type": "slide"
    }
   },
   "source": [
    "<br>\n",
    "<hr class=\"top\">\n",
    "## Fortran and python via `f2py`\n",
    "<hr class=\"bot\">\n",
    "<br>\n",
    "\n",
    "* You need to provide `f2py` with:\n",
    "\n",
    "  * Fortran source code\n",
    "  * A *signature file*: a file describing the external function and its arguments\n",
    "  * (`f2py` can help you generate a signature file)\n",
    "\n",
    "\n",
    "* Also need access to a Fortran compiler\n",
    "\n",
    "\n",
    "* `f2py` can:\n",
    "\n",
    "  * Create a signature file containing argument attributes (e.g., `optional`) that define the Fortran interface\n",
    "  * Wrap Fortran code in an extension module that can be imported from within Python"
   ]
  },
  {
   "cell_type": "markdown",
   "metadata": {
    "slideshow": {
     "slide_type": "slide"
    }
   },
   "source": [
    "<br>\n",
    "<br>\n",
    "<hr class=\"top\">\n",
    "## General recipe\n",
    "<hr class=\"bot\">\n",
    "<br>\n",
    "\n",
    "* Create a signature file \n",
    "  * Use \n",
    "  \n",
    "```python\n",
    "f2py <source> -m <extension_module> -h <signature>.pyf\n",
    "```\n",
    "\n",
    "* Typically the signature filename stub is the same as the source filename\n",
    "\n",
    "\n",
    "* Check the signature file for correctness\n",
    "  * Sequence and types of arguments to be passed from Python to Fortran function\n",
    "  * Argument attributes, such as `depend`\n",
    "\n",
    "\n",
    "* Produce the final extension module\n",
    "  * `f2py -c <signature_file>.pyf <source_file>.f90`\n",
    "\n",
    "\n",
    "* Import module into Python and use the external Fortran function!\n",
    "\n",
    "```python\n",
    "    import extension_module_name\n",
    "    extension_module_name.function(args)\n",
    "```\n",
    "\n",
    "* The source filename may not be the same as the function name\n"
   ]
  },
  {
   "cell_type": "markdown",
   "metadata": {
    "slideshow": {
     "slide_type": "slide"
    }
   },
   "source": [
    "<br>\n",
    "<hr class=\"top\">\n",
    "## Example : `farray_sqrt.f90`\n",
    "<hr class=\"bot\">\n",
    "<br>\n",
    "\n",
    "#### Consider:\n",
    "`array_sqrt()` is an external subroutine\n",
    "\n",
    "```fortran\n",
    "subroutine array_sqrt(n, a_in, a_out)\n",
    "  implicit none\n",
    "  integer, intent(in) :: n\n",
    "  real, dimension(n), intent(in)  :: a_in\n",
    "  real, dimension(n), intent(out) :: a_out\n",
    "  \n",
    "  integer :: i\n",
    "  \n",
    "  do i = 1, n\n",
    "    a_out(i) = sqrt(a_in(i))\n",
    "  end do\n",
    "  \n",
    "  return\n",
    "end subroutine array_sqrt\n",
    "```\n"
   ]
  },
  {
   "cell_type": "markdown",
   "metadata": {
    "slideshow": {
     "slide_type": "slide"
    }
   },
   "source": [
    "<br>\n",
    "<hr class=\"top\">\n",
    "## Create a signature file\n",
    "<hr class=\"bot\">\n",
    "<br>\n",
    "\n",
    "* `f2py` can try to create the signature file (`farray_sqrt.pyf`) automatically\n",
    "   \n",
    "   * From a terminal, issue the command:\n",
    "\n",
    "```bash\n",
    "f2py farray_sqrt.f90 -m farray -h farray_sqrt.pyf\n",
    "```\n",
    "\n",
    "* The Python extension module will be called: `farray`\n",
    "\n",
    "   * use the `-m` option\n",
    "\n",
    "\n",
    "* Signature in text file called: `farray_sqrt.pyf`\n",
    " \n",
    "  * use the `-h` option\n",
    "  \n",
    "  * Note: will not overwrite an existing signature file:\n",
    "    Use `--overwrite-signature` to overwrite.\n"
   ]
  },
  {
   "cell_type": "code",
   "execution_count": null,
   "metadata": {
    "scrolled": true,
    "slideshow": {
     "slide_type": "notes"
    }
   },
   "outputs": [],
   "source": [
    "# Call from within Python to save exiting notebook...\n",
    "\n",
    "!f2py farray_sqrt.f90 -m farray -h farray_sqrt.pyf"
   ]
  },
  {
   "cell_type": "markdown",
   "metadata": {
    "slideshow": {
     "slide_type": "slide"
    }
   },
   "source": [
    "<br>\n",
    "<hr style=\"border: solid 1px red; margin-bottom: 2% \">\n",
    "## Check signature file\n",
    "<hr style=\"border: solid 1px red; margin-bottom: -1%; \">\n",
    "<br>\n",
    "\n",
    "Attributes such as <b>optional</b>, <b>intent</b> and <b>depend</b> specify the visibility, purpose and dependencies of the arguments.\n"
   ]
  },
  {
   "cell_type": "code",
   "execution_count": null,
   "metadata": {},
   "outputs": [],
   "source": [
    "!cat farray_sqrt.pyf"
   ]
  },
  {
   "cell_type": "markdown",
   "metadata": {},
   "source": [
    "Note: exact result can depend on version of `numpy`, so it is worth checking"
   ]
  },
  {
   "cell_type": "markdown",
   "metadata": {
    "slideshow": {
     "slide_type": "slide"
    }
   },
   "source": [
    "<br>\n",
    "<hr class=\"top\">\n",
    "## Compile extension module\n",
    "<hr class=\"bot\">\n",
    "<br>\n",
    "\n",
    "Once you have verified that the signature file is correct\n",
    "\n",
    "* Use `f2py` to compile a module file that can be imported into Python\n",
    "\n",
    "```bash\n",
    "f2py -c farray_sqrt.pyf farray_sqrt.f90\n",
    "```\n",
    "\n",
    "This should produce a shared library file called: `farray.so`"
   ]
  },
  {
   "cell_type": "code",
   "execution_count": null,
   "metadata": {
    "slideshow": {
     "slide_type": "notes"
    }
   },
   "outputs": [],
   "source": [
    "# Run f2py command from within notebook\n",
    "# If you don't want to see the output, try \"msg = !f2py ...\"\n",
    "\n",
    "!f2py -c farray_sqrt.pyf farray_sqrt.f90"
   ]
  },
  {
   "cell_type": "code",
   "execution_count": null,
   "metadata": {},
   "outputs": [],
   "source": [
    "# Check we have the farray.so\n",
    "!ls"
   ]
  },
  {
   "cell_type": "markdown",
   "metadata": {
    "slideshow": {
     "slide_type": "slide"
    }
   },
   "source": [
    "<br>\n",
    "<hr class=\"top\">\n",
    "## Call external function from Python\n",
    "<hr class=\"bot\">\n",
    "<br>"
   ]
  },
  {
   "cell_type": "code",
   "execution_count": null,
   "metadata": {
    "slideshow": {
     "slide_type": "-"
    }
   },
   "outputs": [],
   "source": [
    "# import the extension module\n",
    "import numpy as np\n",
    "from farray import array_sqrt"
   ]
  },
  {
   "cell_type": "code",
   "execution_count": null,
   "metadata": {
    "slideshow": {
     "slide_type": "-"
    }
   },
   "outputs": [],
   "source": [
    "# view docsting of function (automatically produced)\n",
    "array_sqrt?"
   ]
  },
  {
   "cell_type": "code",
   "execution_count": null,
   "metadata": {
    "slideshow": {
     "slide_type": "-"
    }
   },
   "outputs": [],
   "source": [
    "# let's try to use the function\n",
    "\n",
    "ain = np.array([1.0, 4.0, 9.0, 16.0, 2.0], np.double)\n",
    "print(ain)\n",
    "aout = array_sqrt(ain)\n",
    "print(aout)"
   ]
  },
  {
   "cell_type": "markdown",
   "metadata": {},
   "source": [
    "<br>\n",
    "<hr class=\"top\">\n",
    "## Python and C via `ctypes`\n",
    "<hr class=\"bot\">\n",
    "<br>\n",
    "\n",
    "* Uses only python (no additional interface file or mixed-language intermediate code)\n",
    "```python\n",
    "    import ctypes\n",
    "```\n",
    "\n",
    "* Must load the library (`.so`) file explicitly\n",
    "\n",
    "```python\n",
    "    lib = ctypes.cdll.LoadLibrary(\"./my_library.so\")\n",
    "```\n",
    "\n",
    "\n",
    "* Must specify the prototype for the C function\n",
    "\n",
    "```python\n",
    "    lib.my_c_function.restype = ctypes.c_int\n",
    "    lib.my_c_function.argtypes = [ctypes.c_double]\n",
    "```"
   ]
  },
  {
   "cell_type": "markdown",
   "metadata": {},
   "source": [
    "<br>\n",
    "<hr class=\"top\">\n",
    "## Example: C side\n",
    "<hr class=\"bot\">\n",
    "<br>\n",
    "\n",
    "Consider the simple function:\n",
    "```c\n",
    "int my_c_function(double val) {\n",
    "\n",
    "    return (int) (val + 1.0);\n",
    "}\n",
    "```\n",
    "\n",
    "We need to compile an extension module:\n"
   ]
  },
  {
   "cell_type": "code",
   "execution_count": null,
   "metadata": {},
   "outputs": [],
   "source": [
    "!gcc -c -fPIC my_library.c\n",
    "!gcc -shared -o my_library.so my_library.o\n",
    "!ls"
   ]
  },
  {
   "cell_type": "markdown",
   "metadata": {},
   "source": [
    "<br>\n",
    "<hr class=\"top\">\n",
    "## Example: python side\n",
    "<hr class=\"bot\">\n",
    "<br>\n",
    "\n",
    "Now:\n",
    "\n"
   ]
  },
  {
   "cell_type": "code",
   "execution_count": null,
   "metadata": {},
   "outputs": [],
   "source": [
    "import ctypes\n",
    "\n",
    "lib = ctypes.cdll.LoadLibrary(\"./my_library.so\")\n",
    "\n",
    "lib.my_c_function.restype = ctypes.c_int\n",
    "lib.my_c_function.argtypes = [ctypes.c_double]\n",
    "\n",
    "x = float(23)\n",
    "result = lib.my_c_function(x)\n",
    "print(result, type(result))"
   ]
  },
  {
   "cell_type": "markdown",
   "metadata": {},
   "source": [
    "\n",
    "<br>\n",
    "<hr class=\"top\">\n",
    "## `ctypes` and `numpy.ndarray`\n",
    "<hr class=\"bot\">\n",
    "<br>\n",
    "\n",
    "\n",
    "Consider again the square root example, this time in C:\n",
    "    \n",
    "```c\n",
    "#include <math.h>\n",
    "\n",
    "void array_sqrt(int n, double * a_in, double * a_out) {\n",
    "\n",
    "  int i;\n",
    "\n",
    "  for (i = 0; i < n; i++) {\n",
    "    a_out[i] = sqrt(a_in[i]);\n",
    "  }\n",
    "\n",
    "  return;\n",
    "}\n",
    "```\n",
    "\n"
   ]
  },
  {
   "cell_type": "code",
   "execution_count": null,
   "metadata": {},
   "outputs": [],
   "source": [
    "!gcc -c -fPIC c_sqrt.c\n",
    "!gcc -shared -o c_sqrt.so c_sqrt.o"
   ]
  },
  {
   "cell_type": "markdown",
   "metadata": {},
   "source": [
    "<br>\n",
    "<br>\n",
    "<hr class=\"top\">\n",
    "## Using `numpy.ctypeslib`\n",
    "<hr class=\"bot\">\n",
    "<br>\n",
    "The corresponding `ctypes` code must address the two C pointers. "
   ]
  },
  {
   "cell_type": "code",
   "execution_count": null,
   "metadata": {},
   "outputs": [],
   "source": [
    "import ctypes\n",
    "import numpy\n",
    "from numpy.ctypeslib import ndpointer\n",
    "\n",
    "lib = ctypes.cdll.LoadLibrary(\"./c_sqrt.so\")\n",
    "lib.array_sqrt.restype = None\n",
    "lib.array_sqrt.argtypes = [ctypes.c_int, \\\n",
    "            ndpointer(ctypes.c_double, flags=\"C_CONTIGUOUS\"), \\\n",
    "            ndpointer(ctypes.c_double, flags=\"C_CONTIGUOUS\")]\n",
    "\n",
    "a_in = numpy.array([16.0, 25.0, 36.0, 49.0])\n",
    "a_out = numpy.empty(4, np.double)\n",
    "\n",
    "lib.array_sqrt(4, a_in, a_out)\n",
    "print(a_out)"
   ]
  },
  {
   "cell_type": "markdown",
   "metadata": {
    "slideshow": {
     "slide_type": "slide"
    }
   },
   "source": [
    "<br>\n",
    "<hr class=\"top\">\n",
    "## Alternatives\n",
    "<hr class=\"bot\">\n",
    "<br>\n",
    "\n",
    "* <p style=\"font-size: 100%\"><b>Native Python interface</b></p>\n",
    "\n",
    "  * <p style=\"font-size: 100%\">Fully-flexible and portable</p>\n",
    "  * <p style=\"font-size: 100%\">Complex and verbose</p>\n",
    "  * <p style=\"font-size: 100%\">Option if you are interfacing a large amount of code and/or have a large software development project</p>\n",
    "\n",
    "\n",
    "* <p style=\"font-size: 100%\"><b>Cython</b> : converts Python-like code into a C library which can call other C libraries</p>\n",
    "\n",
    "  * <p style=\"font-size: 100%\">Standard C-like Python (or Python-like C)</p>\n",
    "  \n",
    "  \n",
    "* <p style=\"font-size: 100%\"> <b>SWIG</b> (or <b>S</b>implified <b>W</b>rapper and <b>I</b>nterface <b>G</b>enerator) : reads header files and generates a library Python can load </p>\n",
    "\n",
    "  * <p style=\"font-size: 100%\">Very generic and feature-rich</p>\n",
    "  * <p style=\"font-size: 100%\">Supports multiple languages other than Python (e.g. Perl, Ruby)</p>\n",
    "  \n",
    "\n",
    "  \n",
    "  \n",
    "    \n",
    "\n",
    "\n"
   ]
  },
  {
   "cell_type": "markdown",
   "metadata": {
    "slideshow": {
     "slide_type": "slide"
    }
   },
   "source": [
    "<br>\n",
    "<hr class=\"top\">\n",
    "## Alternatives contd ...\n",
    "<hr class=\"bot\">\n",
    "<br>\n",
    "  \n",
    "* <p style=\"font-size: 100%\"><b>ctypes</b>, <b>cffi</b> (C Foreign Function Interface for Python) : both provide \"foreign function interfaces\", or lightweight APIs, for calling C libraries from within Python</p> \n",
    "\n",
    "\n",
    "  * <p style=\"font-size: 100%\">The goal is to provide a convenient and reliable way to call compiled C code from Python using interface declarations written in C</p>\n",
    " \n",
    "  \n",
    "* <p style=\"font-size: 100%\"><b>Weave</b> : includes C/C++ code within Python code and compiles it transparently</p>\n",
    "\n",
    "\n",
    "* <p style=\"font-size: 100%\"><b>Boost.python</b> : helps write C++ libraries that Python can load and use easily  </p>\n",
    "  \n",
    "  \n",
    "* <p style=\"font-size: 100%\"><b>PyCUDA</b> : allows you to include NVIDIA CUDA code within Python.\n",
    "    You can also write C code by hand, that can be called by Python.</p>\n",
    "  \n",
    "  \n",
    "    \n",
    "\n",
    "\n"
   ]
  },
  {
   "cell_type": "markdown",
   "metadata": {
    "slideshow": {
     "slide_type": "slide"
    }
   },
   "source": [
    "<br>\n",
    "<hr class=\"top\">\n",
    "## Summary\n",
    "<hr class=\"bot\">\n",
    "<br>\n",
    "\n",
    "* Calling C/Fortran allows code re-use\n",
    "\n",
    "\n",
    "* Fortran/C can give better performance than Python\n",
    "\n",
    "\n",
    "* `f2py` is a simple way to call Fortran code from Python\n",
    "\n",
    "\n",
    "* Modern Fortran users should consider `f90wrap`\n",
    "\n",
    "\n",
    "* Other options more appropriate for C\n",
    "\n",
    "<br>\n",
    "<br>\n",
    "\n",
    "https://github.com/jameskermode/f90wrap\n",
    "\n",
    "<br>\n",
    "<br>\n",
    "<br>"
   ]
  },
  {
   "cell_type": "code",
   "execution_count": null,
   "metadata": {},
   "outputs": [],
   "source": [
    "help(ctypes)"
   ]
  },
  {
   "cell_type": "markdown",
   "metadata": {
    "slideshow": {
     "slide_type": "slide"
    }
   },
   "source": [
    "<br>\n",
    "<hr class=\"top\">\n",
    "## Exercise: `fibonacci.f90`\n",
    "<hr class=\"bot\">\n",
    "<br>\n",
    "\n",
    "Use `f2py` to create an extension module for function `fibonacci()` and test it in Python.\n",
    "\n",
    "`fibonacci()` computes the first `n` Fibonacci numbers: 0, 1, 1, 2, 3, 5, 8, 13,...\n",
    "and stores the results in the array provided.\n",
    "\n",
    "```fortran\n",
    "subroutine fibonacci(n, a_out)\n",
    "  implicit none\n",
    "  integer, intent(in) :: n\n",
    "  real*8, dimension(n) :: a_out\n",
    "\n",
    "  integer :: i\n",
    "  \n",
    "  do i = 1, n\n",
    "    if (i.eq.1) then\n",
    "      a_out(i) = 0.0\n",
    "    else if (i.eq.2) then\n",
    "      a_out(i) = 1.0\n",
    "    else\n",
    "      a_out(i) = a_out(i-1) + a_out(i-2)\n",
    "    end if\n",
    "  end do\n",
    "end subroutine fibonacci\n",
    "```\n",
    "\n",
    "You can try this on your laptop, or on ARCHER."
   ]
  },
  {
   "cell_type": "code",
   "execution_count": null,
   "metadata": {},
   "outputs": [],
   "source": [
    "!ls"
   ]
  },
  {
   "cell_type": "markdown",
   "metadata": {
    "slideshow": {
     "slide_type": "slide"
    }
   },
   "source": [
    "<br>\n",
    "<hr class=\"top\">\n",
    "## Archer \n",
    "<hr class=\"bot\">\n",
    "<br>\n",
    "\n",
    "From the command line\n",
    "```bash\n",
    "bash> module swap PrgEnv-cray PrgEnv-gnu\n",
    "bash> module swap gcc gcc/4.9.3\n",
    "bash> module load anaconda\n",
    "```\n",
    "\n",
    "Use the commands from the cells above on the command line.\n",
    "\n",
    "Create a script or use the ipython shell to run on the front end\n",
    "<br>\n",
    "<br>"
   ]
  },
  {
   "cell_type": "markdown",
   "metadata": {},
   "source": [
    "<br>\n",
    "<hr class=\"top\">\n",
    "## C Exercise\n",
    "<hr class=\"bot\">\n",
    "<br>\n",
    "\n",
    "An equivalent C function is available to compute a Fibonacci series: `fibonacci.c`\n",
    "\n",
    "Try using `ctypes` to call this function ither using your laptop, or Archer.\n",
    "\n",
    "If you are using your laptop, your will need a C compiler; on Archer, use `cc`.\n",
    "\n",
    "<hr class=\"top\">\n",
    "<hr class=\"bot\">\n"
   ]
  },
  {
   "cell_type": "code",
   "execution_count": null,
   "metadata": {},
   "outputs": [],
   "source": [
    "# This cell is for the presenter\n",
    "from IPython.core.display import display, HTML\n",
    "\n",
    "styles = open(\"../style.css\", \"r\").read()\n",
    "display(HTML(styles))"
   ]
  }
 ],
 "metadata": {
  "anaconda-cloud": {},
  "celltoolbar": "Raw Cell Format",
  "kernelspec": {
   "display_name": "Python 3",
   "language": "python",
   "name": "python3"
  },
  "language_info": {
   "codemirror_mode": {
    "name": "ipython",
    "version": 3
   },
   "file_extension": ".py",
   "mimetype": "text/x-python",
   "name": "python",
   "nbconvert_exporter": "python",
   "pygments_lexer": "ipython3",
   "version": "3.5.5"
  }
 },
 "nbformat": 4,
 "nbformat_minor": 1
}
