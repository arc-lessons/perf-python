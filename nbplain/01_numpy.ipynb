{
  "cells": [
    {
      "metadata": {
        "slideshow": {
          "slide_type": "slide"
        }
      },
      "cell_type": "markdown",
      "source": "# Review of Numpy"
    },
    {
      "metadata": {
        "slideshow": {
          "slide_type": "subslide"
        }
      },
      "cell_type": "markdown",
      "source": "## Overview:\n- **Teaching:** 5 min\n- **Exercises:** 15 min\n\n**Questions**\n- What is numpy?\n- How do I create and manipulate arrays with numpy?\n\n**Objectives**\n- Know that `numpy` provides array structures to help improve your code.\n- Understand that `numpy` contains a rich range of library to create and manipulate arrays. "
    },
    {
      "metadata": {
        "slideshow": {
          "slide_type": "slide"
        }
      },
      "cell_type": "markdown",
      "source": "## Numpy Arrays\n\n* Standard Python Library provides lists and 1d arrays (array.array)\n\n  * Lists are general containers for objects\n  * Arrays are 1d containers for objects of the same type\n  * Limited functionality\n  * Some memory and performance overhead associated with these structures\n\n* NumPy provides multidimensional arrays (numpy.ndarray)\n  * Can store many elements of the same data type in multiple dimensions\n  * cf. Fortran/C/C++ arrays\n  * More functionality than core Python e.g. many conveninent methods for array manipulation\n  * Efficient storage and execution\n\nSee, e.g.,\n* http://docs.scipy.org/doc/numpy-1.10.0/reference/generated/numpy.ndarray.html"
    },
    {
      "metadata": {
        "slideshow": {
          "slide_type": "slide"
        }
      },
      "cell_type": "markdown",
      "source": "## Creating Arrays (by hand)\n\nWe can create `numpy` arrays *by hand*, taking a list and and creating a numpy array from it:"
    },
    {
      "metadata": {
        "slideshow": {
          "slide_type": "subslide"
        },
        "trusted": true
      },
      "cell_type": "code",
      "source": "import numpy as np",
      "execution_count": 1,
      "outputs": []
    },
    {
      "metadata": {
        "slideshow": {
          "slide_type": "subslide"
        },
        "trusted": true
      },
      "cell_type": "code",
      "source": "a = np.array( [-1, 0, 1] )\nb = np.array( a )\nprint(a)\nprint(b)",
      "execution_count": 2,
      "outputs": [
        {
          "output_type": "stream",
          "text": "[-1  0  1]\n[-1  0  1]\n",
          "name": "stdout"
        }
      ]
    },
    {
      "metadata": {
        "slideshow": {
          "slide_type": "subslide"
        }
      },
      "cell_type": "markdown",
      "source": "All NumPy arrays are of `type`, `ndarray`"
    },
    {
      "metadata": {
        "slideshow": {
          "slide_type": "subslide"
        },
        "trusted": true
      },
      "cell_type": "code",
      "source": "type(b)",
      "execution_count": 3,
      "outputs": [
        {
          "output_type": "execute_result",
          "execution_count": 3,
          "data": {
            "text/plain": "numpy.ndarray"
          },
          "metadata": {}
        }
      ]
    },
    {
      "metadata": {
        "slideshow": {
          "slide_type": "slide"
        }
      },
      "cell_type": "markdown",
      "source": "## Creating arrays (helper functions)\n\nHowever often we want to create large array, that follow a specific sequence or of initial conditions:"
    },
    {
      "metadata": {
        "slideshow": {
          "slide_type": "slide"
        }
      },
      "cell_type": "markdown",
      "source": "## Exercise: Create Arrays\n\nWhat arrays do the following do:\n\n```python\nw = np.arange( -2, 6, 2 )\nx = np.linspace(-10, 10, 5) \ny = np.zeros(3)\nz = np.ones(3)\n```\n\n[Solution]()"
    },
    {
      "metadata": {
        "slideshow": {
          "slide_type": "slide"
        }
      },
      "cell_type": "markdown",
      "source": "## Solution+:"
    },
    {
      "metadata": {
        "slideshow": {
          "slide_type": "subslide"
        },
        "trusted": true
      },
      "cell_type": "code",
      "source": "# arange for arrays (similar to range for lists)\nw = np.arange( -2, 6, 2 )\nprint(w)",
      "execution_count": 4,
      "outputs": [
        {
          "output_type": "stream",
          "text": "[-2  0  2  4]\n",
          "name": "stdout"
        }
      ]
    },
    {
      "metadata": {
        "slideshow": {
          "slide_type": "subslide"
        },
        "trusted": true
      },
      "cell_type": "code",
      "source": "# linspace to create regular sample points in an interval\nx = np.linspace(-10, 10, 5) \nprint(x)",
      "execution_count": 5,
      "outputs": [
        {
          "output_type": "stream",
          "text": "[-10.  -5.   0.   5.  10.]\n",
          "name": "stdout"
        }
      ]
    },
    {
      "metadata": {
        "slideshow": {
          "slide_type": "subslide"
        },
        "trusted": true
      },
      "cell_type": "code",
      "source": "# Create an array of zeros\ny = np.zeros(3)\nprint(y)",
      "execution_count": 6,
      "outputs": [
        {
          "output_type": "stream",
          "text": "[0. 0. 0.]\n",
          "name": "stdout"
        }
      ]
    },
    {
      "metadata": {
        "slideshow": {
          "slide_type": "subslide"
        },
        "trusted": true
      },
      "cell_type": "code",
      "source": "#Create an array of ones\nz = np.ones(3)\nprint(z)",
      "execution_count": 7,
      "outputs": [
        {
          "output_type": "stream",
          "text": "[1. 1. 1.]\n",
          "name": "stdout"
        }
      ]
    },
    {
      "metadata": {
        "slideshow": {
          "slide_type": "subslide"
        }
      },
      "cell_type": "markdown",
      "source": ":Solution+"
    },
    {
      "metadata": {
        "slideshow": {
          "slide_type": "slide"
        }
      },
      "cell_type": "markdown",
      "source": "## Attributes of Arrays\n\nEvery `numpy` array has attributes that describe e.g. its *dimension* and *shape*"
    },
    {
      "metadata": {
        "slideshow": {
          "slide_type": "subslide"
        },
        "trusted": true
      },
      "cell_type": "code",
      "source": "print(\"Dimensions \", x.ndim)",
      "execution_count": 8,
      "outputs": [
        {
          "output_type": "stream",
          "text": "Dimensions  1\n",
          "name": "stdout"
        }
      ]
    },
    {
      "metadata": {
        "slideshow": {
          "slide_type": "subslide"
        },
        "trusted": true
      },
      "cell_type": "code",
      "source": "print(\"Shape      \", x.shape)",
      "execution_count": 9,
      "outputs": [
        {
          "output_type": "stream",
          "text": "Shape       (5,)\n",
          "name": "stdout"
        }
      ]
    },
    {
      "metadata": {
        "slideshow": {
          "slide_type": "slide"
        }
      },
      "cell_type": "markdown",
      "source": "## Exercise:\n\nWhat are the following attributes:\n\n```python\nx.size\nx.dtype\n```\n\nWhat other attributes can you find for a numpy array (and how)?\n\n[Solution]()"
    },
    {
      "metadata": {
        "slideshow": {
          "slide_type": "slide"
        }
      },
      "cell_type": "markdown",
      "source": "## Solution+:"
    },
    {
      "metadata": {
        "slideshow": {
          "slide_type": "subslide"
        },
        "trusted": true
      },
      "cell_type": "code",
      "source": "print(\"Size       \", a.size)",
      "execution_count": 10,
      "outputs": [
        {
          "output_type": "stream",
          "text": "Size        3\n",
          "name": "stdout"
        }
      ]
    },
    {
      "metadata": {
        "slideshow": {
          "slide_type": "subslide"
        },
        "trusted": true
      },
      "cell_type": "code",
      "source": "print(\"Data type  \", a.dtype)",
      "execution_count": 11,
      "outputs": [
        {
          "output_type": "stream",
          "text": "Data type   int64\n",
          "name": "stdout"
        }
      ]
    },
    {
      "metadata": {
        "slideshow": {
          "slide_type": "subslide"
        }
      },
      "cell_type": "markdown",
      "source": ":Solution"
    },
    {
      "metadata": {
        "slideshow": {
          "slide_type": "slide"
        }
      },
      "cell_type": "markdown",
      "source": "## Multi-dimensional arrays\n\nMany different ways to create N-dimensional arrays. A two-dimensional array or matrix can be created from, e.g., list of lists"
    },
    {
      "metadata": {
        "slideshow": {
          "slide_type": "subslide"
        },
        "trusted": true
      },
      "cell_type": "code",
      "source": "mat = np.array( [[1,2,3], [4,5,6]] )\nprint(mat)\nprint(\"Dimensions: \", mat.ndim)\nprint(\"Size:       \", mat.size)\nprint(\"Shape:      \", mat.shape)",
      "execution_count": 12,
      "outputs": [
        {
          "output_type": "stream",
          "text": "[[1 2 3]\n [4 5 6]]\nDimensions:  2\nSize:        6\nShape:       (2, 3)\n",
          "name": "stdout"
        }
      ]
    },
    {
      "metadata": {
        "slideshow": {
          "slide_type": "subslide"
        },
        "trusted": true
      },
      "cell_type": "code",
      "source": "mat0 = np.zeros( (3,3) )\nprint(mat0)",
      "execution_count": 13,
      "outputs": [
        {
          "output_type": "stream",
          "text": "[[0. 0. 0.]\n [0. 0. 0.]\n [0. 0. 0.]]\n",
          "name": "stdout"
        }
      ]
    },
    {
      "metadata": {
        "slideshow": {
          "slide_type": "subslide"
        },
        "trusted": true
      },
      "cell_type": "code",
      "source": "mat1 = np.ones( (3,3) )\nprint(mat0)",
      "execution_count": 14,
      "outputs": [
        {
          "output_type": "stream",
          "text": "[[0. 0. 0.]\n [0. 0. 0.]\n [0. 0. 0.]]\n",
          "name": "stdout"
        }
      ]
    },
    {
      "metadata": {
        "slideshow": {
          "slide_type": "slide"
        }
      },
      "cell_type": "markdown",
      "source": "## Key Points:\n- Numpy allows you to quickly create (multidimensional) arrays and popultate them\n- Numpy array attributes describe the array"
    }
  ],
  "metadata": {
    "celltoolbar": "Slideshow",
    "kernelspec": {
      "name": "python3",
      "display_name": "Python 3",
      "language": "python"
    },
    "language_info": {
      "mimetype": "text/x-python",
      "nbconvert_exporter": "python",
      "name": "python",
      "file_extension": ".py",
      "version": "3.5.4",
      "pygments_lexer": "ipython3",
      "codemirror_mode": {
        "version": 3,
        "name": "ipython"
      }
    }
  },
  "nbformat": 4,
  "nbformat_minor": 2
}