{
  "cells": [
    {
      "metadata": {
        "slideshow": {
          "slide_type": "slide"
        }
      },
      "cell_type": "markdown",
      "source": "# Polynomials"
    },
    {
      "metadata": {
        "slideshow": {
          "slide_type": "subslide"
        }
      },
      "cell_type": "markdown",
      "source": "##### Overview:\n- **Teaching:** 5 min\n- **Exercises:** 15 min\n\n**Questions**\n- What else can numpy do for me?\n\n**Objectives**\n- Know that `Numpy` and `SciPy` provide a huge range of functionality\n- Know that `Polynomial` exist"
    },
    {
      "metadata": {
        "slideshow": {
          "slide_type": "slide"
        }
      },
      "cell_type": "markdown",
      "source": "## Lectures on Numpy, Scipy\n\nAs well as a huge range of functionality there also exist lectures on use case for [Numpy](https://scipy-lectures.org/intro/numpy/index.html) and the whole of [Scipy](https://scipy-lectures.org/intro/).  If you want to now want explore this material please do so.  There is little value in trying to reproduce it here.\n\nOne example we will explore however is the polynomial as it gives an example of how `numpy` can help us produce very powerful efficient code efficiently.  First what is numpy Polynomial module?"
    },
    {
      "metadata": {},
      "cell_type": "markdown",
      "source": "## Information: \n\n## Polynomials\n\nWe can represent polynomials with the `numpy` class `Polynomial` from `numpy.polynomial.Polynomial`\n\n* `Polynomial([a, b, c, d, e])` creates a polynomial  $p(x) = a\\,+\\,b\\,x \\,+\\,c\\,x^2\\,+\\,d\\,x^3\\,+\\,e\\,x^4$.\n\nFor example:\n\n* `Polynomial([1,2,3])` creates $p(x) = 1\\,+\\,2\\,x \\,+\\,3\\,x^2$\n  \n* `Polynomial([0,1,0,2,0,3])` creates $p(x) = x \\,+\\,2\\,x^3\\,+\\,3\\,x^5 $</p>\n  \nLet's import the class and have a quick play:"
    },
    {
      "metadata": {
        "trusted": true
      },
      "cell_type": "code",
      "source": "from numpy.polynomial import Polynomial as poly",
      "execution_count": 1,
      "outputs": []
    },
    {
      "metadata": {
        "trusted": true
      },
      "cell_type": "code",
      "source": "my_poly = poly([1,2,3])\nprint(my_poly)\nmy_poly",
      "execution_count": 2,
      "outputs": [
        {
          "output_type": "stream",
          "text": "poly([1. 2. 3.])\n",
          "name": "stdout"
        },
        {
          "output_type": "execute_result",
          "execution_count": 2,
          "data": {
            "text/latex": "$x \\mapsto \\text{1.0} + \\text{2.0}\\,x + \\text{3.0}\\,x^{2}$",
            "text/plain": "Polynomial([1., 2., 3.], domain=[-1,  1], window=[-1,  1])"
          },
          "metadata": {}
        }
      ]
    },
    {
      "metadata": {},
      "cell_type": "markdown",
      "source": "Once created we can use help/autocompletion to explore/access the various functions available.  We can access find the derivative of our polynomial:"
    },
    {
      "metadata": {
        "trusted": true
      },
      "cell_type": "code",
      "source": "my_poly.deriv()",
      "execution_count": 3,
      "outputs": [
        {
          "output_type": "execute_result",
          "execution_count": 3,
          "data": {
            "text/latex": "$x \\mapsto \\text{2.0} + \\text{6.0}\\,x$",
            "text/plain": "Polynomial([2., 6.], domain=[-1.,  1.], window=[-1.,  1.])"
          },
          "metadata": {}
        }
      ]
    },
    {
      "metadata": {},
      "cell_type": "markdown",
      "source": "If we assign this to a variable the the object is another polynomial:"
    },
    {
      "metadata": {
        "trusted": true
      },
      "cell_type": "code",
      "source": "my_deriv = my_poly.deriv()\nprint(my_deriv)\nmy_deriv",
      "execution_count": 4,
      "outputs": [
        {
          "output_type": "stream",
          "text": "poly([2. 6.])\n",
          "name": "stdout"
        },
        {
          "output_type": "execute_result",
          "execution_count": 4,
          "data": {
            "text/latex": "$x \\mapsto \\text{2.0} + \\text{6.0}\\,x$",
            "text/plain": "Polynomial([2., 6.], domain=[-1.,  1.], window=[-1.,  1.])"
          },
          "metadata": {}
        }
      ]
    },
    {
      "metadata": {
        "trusted": true
      },
      "cell_type": "code",
      "source": "my_integ = my_poly.integ()\nprint(my_integ)\nmy_integ",
      "execution_count": 5,
      "outputs": [
        {
          "output_type": "stream",
          "text": "poly([0. 1. 1. 1.])\n",
          "name": "stdout"
        },
        {
          "output_type": "execute_result",
          "execution_count": 5,
          "data": {
            "text/latex": "$x \\mapsto \\color{LightGray}{\\text{0.0}} + \\text{1.0}\\,x + \\text{1.0}\\,x^{2} + \\text{1.0}\\,x^{3}$",
            "text/plain": "Polynomial([0., 1., 1., 1.], domain=[-1.,  1.], window=[-1.,  1.])"
          },
          "metadata": {}
        }
      ]
    },
    {
      "metadata": {},
      "cell_type": "markdown",
      "source": "Note that even `numpy` can't know the value of the constant when you integrate, though you can set it:"
    },
    {
      "metadata": {
        "trusted": true
      },
      "cell_type": "code",
      "source": "help(my_poly.integ)",
      "execution_count": 6,
      "outputs": [
        {
          "output_type": "stream",
          "text": "Help on method integ in module numpy.polynomial._polybase:\n\ninteg(m=1, k=[], lbnd=None) method of numpy.polynomial.polynomial.Polynomial instance\n    Integrate.\n    \n    Return a series instance that is the definite integral of the\n    current series.\n    \n    Parameters\n    ----------\n    m : non-negative int\n        The number of integrations to perform.\n    k : array_like\n        Integration constants. The first constant is applied to the\n        first integration, the second to the second, and so on. The\n        list of values must less than or equal to `m` in length and any\n        missing values are set to zero.\n    lbnd : Scalar\n        The lower bound of the definite integral.\n    \n    Returns\n    -------\n    new_series : series\n        A new series representing the integral. The domain is the same\n        as the domain of the integrated series.\n\n",
          "name": "stdout"
        }
      ]
    },
    {
      "metadata": {},
      "cell_type": "markdown",
      "source": "## Exercise: Calculting $\\pi$ again\n\nThe Taylor series expansion for the trigonometric function $\\arctan(y)$ is :\n\n$$\\arctan ( y) \\, = \\,y - \\frac{y^3}{3} + \\frac{y^5}{5}  - \\frac{y^7}{7}  + \\dots $$\n\nNow, $\\arctan(1) = \\pi/4 $, so\n\n$$ \\pi = 4 \\, \\Big( 1- \\frac{1}{3} + \\frac{1}{5} - \\frac{1}{7} + ... \\Big) $$\n\nWe can represent the series expansion using a numpy `Polynomial`, with coefficients:\n\n$$0, +1, 0, -1/3, 0, +1/5, 0, -1/7,\\ldots\\,$$ and use it to approximate $\\pi$.\n\nUsing this, write a code to estimate $\\pi$.  How does your code perform, how does it compare with the Monte Carlo approach?"
    },
    {
      "metadata": {
        "slideshow": {
          "slide_type": "slide"
        }
      },
      "cell_type": "markdown",
      "source": "## Key Points:\n- Numpy and Scipy lectures are a valuable resource for learning to use their functionality\n- Making use of existing functionality will help you write correct, performant code more efficiently"
    }
  ],
  "metadata": {
    "celltoolbar": "Slideshow",
    "kernelspec": {
      "name": "python36",
      "display_name": "Python 3.6",
      "language": "python"
    },
    "language_info": {
      "mimetype": "text/x-python",
      "nbconvert_exporter": "python",
      "name": "python",
      "pygments_lexer": "ipython3",
      "version": "3.6.6",
      "file_extension": ".py",
      "codemirror_mode": {
        "version": 3,
        "name": "ipython"
      }
    }
  },
  "nbformat": 4,
  "nbformat_minor": 2
}