{
  "cells": [
    {
      "metadata": {
        "slideshow": {
          "slide_type": "slide"
        }
      },
      "cell_type": "markdown",
      "source": "# Performant Python\n\nOnce you have working code that you have tested to demonstrate that it is working correctly.  You might want to explore how efficient the code runs.  This lesson will explore `numpy`, `numba`, `scipy` and `Cython`.  Each of these explore different methods to (attempt to) improve the performance of Python to comparable levels with compiled languages such as C and Fortran."
    },
    {
      "metadata": {
        "slideshow": {
          "slide_type": "slide"
        }
      },
      "cell_type": "markdown",
      "source": "## Prerequisites:\n\nTo complete this lesson you should be familiar with:\n\n- Writing numerical Python codes"
    },
    {
      "metadata": {
        "slideshow": {
          "slide_type": "slide"
        }
      },
      "cell_type": "markdown",
      "source": "## Schedule:\n\n| Time | Episode | Description |\n|---|---|---|\n| 0:00 | [Review of Nummpy](01_numpy.ipynb) | Review Numpy arrays |\n| 0:20 | [Copying and accessing arrays](02_copy_access.ipynb) | How to copy and access subsets of arrays|\n| 0:40 | [Manipulating Array](03_manipulate_indices.ipynb) | Manipulating Arrays |\n| 1:00 | [File handling](04_file_handling) | Reading and Writing Files with Numpy |\n| 1:15 | [Something Random](05_random.ipynb) | Something random in Numpy |\n| 1:30 | [Vectorisation](06_vectorisation) | Vector operations (for free) in Numpy) |"
    },
    {
      "metadata": {
        "slideshow": {
          "slide_type": "subslide"
        }
      },
      "cell_type": "markdown",
      "source": "Be sure to edit the links above."
    },
    {
      "metadata": {
        "slideshow": {
          "slide_type": "slide"
        }
      },
      "cell_type": "markdown",
      "source": "## Setup:\n\nRunning [notebooks on azure](https://notebooks.azure.com) and clone the [library](https://notebooks.azure.com/jgrant/projects/perf-python) and `Run on Free ...`"
    }
  ],
  "metadata": {
    "celltoolbar": "Slideshow",
    "kernelspec": {
      "name": "python3",
      "display_name": "Python 3",
      "language": "python"
    },
    "language_info": {
      "mimetype": "text/x-python",
      "nbconvert_exporter": "python",
      "name": "python",
      "pygments_lexer": "ipython3",
      "version": "3.5.4",
      "file_extension": ".py",
      "codemirror_mode": {
        "version": 3,
        "name": "ipython"
      }
    }
  },
  "nbformat": 4,
  "nbformat_minor": 2
}