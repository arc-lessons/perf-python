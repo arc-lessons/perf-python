{
  "cells": [
    {
      "metadata": {
        "slideshow": {
          "slide_type": "slide"
        }
      },
      "cell_type": "markdown",
      "source": "# Vectorisation"
    },
    {
      "metadata": {
        "slideshow": {
          "slide_type": "subslide"
        }
      },
      "cell_type": "markdown",
      "source": "##### Overview:\n- **Teaching:** 5 min\n- **Exercises:** 15 min\n\n**Questions**\n- How do I manipulate the shape or size of an array?\n- What if I want to select by indexing?\n\n**Objectives**\n- Understand that by using `numpy` we can work directly with arrays without having to loop"
    },
    {
      "metadata": {
        "slideshow": {
          "slide_type": "slide"
        }
      },
      "cell_type": "markdown",
      "source": "## Vector calculations\n\nFirst as always we must import `numpy`:"
    },
    {
      "metadata": {
        "slideshow": {
          "slide_type": "subslide"
        },
        "trusted": true
      },
      "cell_type": "code",
      "source": "import numpy as np",
      "execution_count": 2,
      "outputs": []
    },
    {
      "metadata": {
        "slideshow": {
          "slide_type": "slide"
        }
      },
      "cell_type": "markdown",
      "source": "Let's create ourselves an array as before and change their shape."
    },
    {
      "metadata": {
        "slideshow": {
          "slide_type": "subslide"
        },
        "trusted": true
      },
      "cell_type": "code",
      "source": "a = np.arange(10).reshape( (2,5) )\nb = np.arange(10).reshape( (2,5) )\nprint(a)",
      "execution_count": 5,
      "outputs": [
        {
          "output_type": "stream",
          "text": "[[0 1 2 3 4]\n [5 6 7 8 9]]\n",
          "name": "stdout"
        }
      ]
    },
    {
      "metadata": {
        "slideshow": {
          "slide_type": "slide"
        }
      },
      "cell_type": "markdown",
      "source": "Now we can begin to use `numpy` in 'happiness', ie use it to make our lives easier"
    },
    {
      "metadata": {
        "slideshow": {
          "slide_type": "subslide"
        },
        "trusted": true
      },
      "cell_type": "code",
      "source": "c=0.1*a\nprint(c)",
      "execution_count": 6,
      "outputs": [
        {
          "output_type": "stream",
          "text": "[[0.  0.1 0.2 0.3 0.4]\n [0.5 0.6 0.7 0.8 0.9]]\n",
          "name": "stdout"
        }
      ]
    },
    {
      "metadata": {
        "slideshow": {
          "slide_type": "slide"
        }
      },
      "cell_type": "markdown",
      "source": "Now is `c` a copy of the original array or just a new view?"
    },
    {
      "metadata": {
        "slideshow": {
          "slide_type": "subslide"
        },
        "trusted": true
      },
      "cell_type": "code",
      "source": "c[(0,0)] = -1\nprint(a)\nprint(c)",
      "execution_count": 8,
      "outputs": [
        {
          "output_type": "stream",
          "text": "[[0 1 2 3 4]\n [5 6 7 8 9]]\n[[-1.   0.1  0.2  0.3  0.4]\n [ 0.5  0.6  0.7  0.8  0.9]]\n",
          "name": "stdout"
        }
      ]
    },
    {
      "metadata": {
        "slideshow": {
          "slide_type": "subslide"
        },
        "trusted": true
      },
      "cell_type": "code",
      "source": "c.base is a",
      "execution_count": 7,
      "outputs": [
        {
          "output_type": "execute_result",
          "execution_count": 7,
          "data": {
            "text/plain": "False"
          },
          "metadata": {}
        }
      ]
    },
    {
      "metadata": {
        "slideshow": {
          "slide_type": "slide"
        }
      },
      "cell_type": "markdown",
      "source": "## 'Multiplication'\n\nNow that we have operated on a single array let's multiply to arrays together"
    },
    {
      "metadata": {
        "slideshow": {
          "slide_type": "subslide"
        },
        "trusted": true
      },
      "cell_type": "code",
      "source": "print(a*b)",
      "execution_count": 9,
      "outputs": [
        {
          "output_type": "stream",
          "text": "[[ 0  1  4  9 16]\n [25 36 49 64 81]]\n",
          "name": "stdout"
        }
      ]
    },
    {
      "metadata": {
        "slideshow": {
          "slide_type": "subslide"
        }
      },
      "cell_type": "markdown",
      "source": "What has just happend?"
    },
    {
      "metadata": {
        "slideshow": {
          "slide_type": "slide"
        }
      },
      "cell_type": "markdown",
      "source": "## Dot product\n\nIf we want to perform a well defined operation such as a *dot* product then we need to construct this properly, for two (non-square) arrays of the same shape, the *dot* product is defined if:\n\n$a \\cdot b^T$\n\nWe can perform this using `numpy` with"
    },
    {
      "metadata": {
        "trusted": true
      },
      "cell_type": "code",
      "source": "print(a.dot(b.T))",
      "execution_count": 10,
      "outputs": [
        {
          "output_type": "stream",
          "text": "[[ 30  80]\n [ 80 255]]\n",
          "name": "stdout"
        }
      ]
    },
    {
      "metadata": {
        "slideshow": {
          "slide_type": "slide"
        }
      },
      "cell_type": "markdown",
      "source": "## Exercise:\n\nCalculate the cross product:\n\n$a \\times b^T$\n\nfor two arrays `[2,3,4]` and `[5,6,7]`\n\n[Solution]()"
    },
    {
      "metadata": {
        "slideshow": {
          "slide_type": "slide"
        }
      },
      "cell_type": "markdown",
      "source": "## Solution+:\n\nAs you would expect there is a built in `numpy` function `cross` but its usage is slightly different that for the `dot` product."
    },
    {
      "metadata": {
        "slideshow": {
          "slide_type": "subslide"
        },
        "trusted": true
      },
      "cell_type": "code",
      "source": "p = np.array([2,3,4])\nq = np.array([5,6,7])\nnp.cross(p,q)",
      "execution_count": 17,
      "outputs": [
        {
          "output_type": "execute_result",
          "execution_count": 17,
          "data": {
            "text/plain": "array([-3,  6, -3])"
          },
          "metadata": {}
        }
      ]
    },
    {
      "metadata": {
        "slideshow": {
          "slide_type": "subslide"
        }
      },
      "cell_type": "markdown",
      "source": "If you want to understand why the *cross* product has a different form from the *dot* product you need can ask a mathematician ...\n\n:Solution+"
    },
    {
      "metadata": {
        "slideshow": {
          "slide_type": "slide"
        }
      },
      "cell_type": "markdown",
      "source": "## Key Points:\n- Numpy allows you to perform vector operations on arrays without implicitly looping\n- Understanding how functions work, whether they operate on individual objects or the class is key to using `numpy` effectively"
    }
  ],
  "metadata": {
    "celltoolbar": "Slideshow",
    "kernelspec": {
      "name": "python3",
      "display_name": "Python 3",
      "language": "python"
    },
    "language_info": {
      "mimetype": "text/x-python",
      "nbconvert_exporter": "python",
      "name": "python",
      "pygments_lexer": "ipython3",
      "version": "3.5.4",
      "file_extension": ".py",
      "codemirror_mode": {
        "version": 3,
        "name": "ipython"
      }
    }
  },
  "nbformat": 4,
  "nbformat_minor": 2
}